{
 "cells": [
  {
   "cell_type": "markdown",
   "metadata": {},
   "source": [
    "# Car Price Prediction\n"
   ]
  },
  {
   "cell_type": "markdown",
   "metadata": {},
   "source": [
    "### Problem Statement\n",
    "A Chinese automobile company Geely Auto aspires to enter the US market by setting up their manufacturing unit there and producing cars locally to give competition to their US and European counterparts. \n",
    "\n",
    "They have contracted an automobile consulting company to understand the factors on which the pricing of cars depends. Specifically, they want to understand the factors affecting the pricing of cars in the American market, since those may be very different from the Chinese market. The company wants to know:\n",
    "\n",
    "    - Which variables are significant in predicting the price of a car\n",
    "    - How well those variables describe the price of a car\n",
    "\n",
    "Based on various market surveys, the consulting firm has gathered a large dataset of different types of cars across the Americal market. "
   ]
  },
  {
   "cell_type": "markdown",
   "metadata": {},
   "source": [
    "## Step 1 : Understand the Business Problem."
   ]
  },
  {
   "cell_type": "markdown",
   "metadata": {},
   "source": [
    "### Business Goal \n",
    "\n",
    "You are required to model the price of cars with the available independent variables. It will be used by the management to understand how exactly the prices vary with the independent variables. They can accordingly manipulate the design of the cars, the business strategy etc. to meet certain price levels. Further, the model will be a good way for management to understand the pricing dynamics of a new market. "
   ]
  },
  {
   "cell_type": "markdown",
   "metadata": {},
   "source": [
    "## Step 2 : Import all the libraries and set up all the requirements that you will need."
   ]
  },
  {
   "cell_type": "code",
   "execution_count": 29,
   "metadata": {},
   "outputs": [],
   "source": [
    "import warnings\n",
    "warnings.filterwarnings('ignore')\n",
    "\n",
    "#importing the libraries\n",
    "import numpy as np\n",
    "import pandas as pd\n",
    "import matplotlib.pyplot as plt\n",
    "import seaborn as sns"
   ]
  },
  {
   "cell_type": "markdown",
   "metadata": {},
   "source": [
    "### Import the data set and check the following\n",
    "- dimension of the dataset.\n",
    "- data types.\n",
    "- Missing value available in the dataset.\n",
    "- Descriptive statistics of data and write the observation."
   ]
  },
  {
   "cell_type": "code",
   "execution_count": 72,
   "metadata": {},
   "outputs": [
    {
     "data": {
      "text/html": [
       "<div>\n",
       "<style scoped>\n",
       "    .dataframe tbody tr th:only-of-type {\n",
       "        vertical-align: middle;\n",
       "    }\n",
       "\n",
       "    .dataframe tbody tr th {\n",
       "        vertical-align: top;\n",
       "    }\n",
       "\n",
       "    .dataframe thead th {\n",
       "        text-align: right;\n",
       "    }\n",
       "</style>\n",
       "<table border=\"1\" class=\"dataframe\">\n",
       "  <thead>\n",
       "    <tr style=\"text-align: right;\">\n",
       "      <th></th>\n",
       "      <th>car_ID</th>\n",
       "      <th>symboling</th>\n",
       "      <th>CarName</th>\n",
       "      <th>fueltype</th>\n",
       "      <th>aspiration</th>\n",
       "      <th>doornumber</th>\n",
       "      <th>carbody</th>\n",
       "      <th>drivewheel</th>\n",
       "      <th>enginelocation</th>\n",
       "      <th>wheelbase</th>\n",
       "      <th>...</th>\n",
       "      <th>enginesize</th>\n",
       "      <th>fuelsystem</th>\n",
       "      <th>boreratio</th>\n",
       "      <th>stroke</th>\n",
       "      <th>compressionratio</th>\n",
       "      <th>horsepower</th>\n",
       "      <th>peakrpm</th>\n",
       "      <th>citympg</th>\n",
       "      <th>highwaympg</th>\n",
       "      <th>price</th>\n",
       "    </tr>\n",
       "  </thead>\n",
       "  <tbody>\n",
       "    <tr>\n",
       "      <th>0</th>\n",
       "      <td>1</td>\n",
       "      <td>3</td>\n",
       "      <td>alfa-romero giulia</td>\n",
       "      <td>gas</td>\n",
       "      <td>std</td>\n",
       "      <td>two</td>\n",
       "      <td>convertible</td>\n",
       "      <td>rwd</td>\n",
       "      <td>front</td>\n",
       "      <td>88.6</td>\n",
       "      <td>...</td>\n",
       "      <td>130</td>\n",
       "      <td>mpfi</td>\n",
       "      <td>3.47</td>\n",
       "      <td>2.68</td>\n",
       "      <td>9.0</td>\n",
       "      <td>111</td>\n",
       "      <td>5000</td>\n",
       "      <td>21</td>\n",
       "      <td>27</td>\n",
       "      <td>13495.0</td>\n",
       "    </tr>\n",
       "    <tr>\n",
       "      <th>1</th>\n",
       "      <td>2</td>\n",
       "      <td>3</td>\n",
       "      <td>alfa-romero stelvio</td>\n",
       "      <td>gas</td>\n",
       "      <td>std</td>\n",
       "      <td>two</td>\n",
       "      <td>convertible</td>\n",
       "      <td>rwd</td>\n",
       "      <td>front</td>\n",
       "      <td>88.6</td>\n",
       "      <td>...</td>\n",
       "      <td>130</td>\n",
       "      <td>mpfi</td>\n",
       "      <td>3.47</td>\n",
       "      <td>2.68</td>\n",
       "      <td>9.0</td>\n",
       "      <td>111</td>\n",
       "      <td>5000</td>\n",
       "      <td>21</td>\n",
       "      <td>27</td>\n",
       "      <td>16500.0</td>\n",
       "    </tr>\n",
       "    <tr>\n",
       "      <th>2</th>\n",
       "      <td>3</td>\n",
       "      <td>1</td>\n",
       "      <td>alfa-romero Quadrifoglio</td>\n",
       "      <td>gas</td>\n",
       "      <td>std</td>\n",
       "      <td>two</td>\n",
       "      <td>hatchback</td>\n",
       "      <td>rwd</td>\n",
       "      <td>front</td>\n",
       "      <td>94.5</td>\n",
       "      <td>...</td>\n",
       "      <td>152</td>\n",
       "      <td>mpfi</td>\n",
       "      <td>2.68</td>\n",
       "      <td>3.47</td>\n",
       "      <td>9.0</td>\n",
       "      <td>154</td>\n",
       "      <td>5000</td>\n",
       "      <td>19</td>\n",
       "      <td>26</td>\n",
       "      <td>16500.0</td>\n",
       "    </tr>\n",
       "    <tr>\n",
       "      <th>3</th>\n",
       "      <td>4</td>\n",
       "      <td>2</td>\n",
       "      <td>audi 100 ls</td>\n",
       "      <td>gas</td>\n",
       "      <td>std</td>\n",
       "      <td>four</td>\n",
       "      <td>sedan</td>\n",
       "      <td>fwd</td>\n",
       "      <td>front</td>\n",
       "      <td>99.8</td>\n",
       "      <td>...</td>\n",
       "      <td>109</td>\n",
       "      <td>mpfi</td>\n",
       "      <td>3.19</td>\n",
       "      <td>3.40</td>\n",
       "      <td>10.0</td>\n",
       "      <td>102</td>\n",
       "      <td>5500</td>\n",
       "      <td>24</td>\n",
       "      <td>30</td>\n",
       "      <td>13950.0</td>\n",
       "    </tr>\n",
       "    <tr>\n",
       "      <th>4</th>\n",
       "      <td>5</td>\n",
       "      <td>2</td>\n",
       "      <td>audi 100ls</td>\n",
       "      <td>gas</td>\n",
       "      <td>std</td>\n",
       "      <td>four</td>\n",
       "      <td>sedan</td>\n",
       "      <td>4wd</td>\n",
       "      <td>front</td>\n",
       "      <td>99.4</td>\n",
       "      <td>...</td>\n",
       "      <td>136</td>\n",
       "      <td>mpfi</td>\n",
       "      <td>3.19</td>\n",
       "      <td>3.40</td>\n",
       "      <td>8.0</td>\n",
       "      <td>115</td>\n",
       "      <td>5500</td>\n",
       "      <td>18</td>\n",
       "      <td>22</td>\n",
       "      <td>17450.0</td>\n",
       "    </tr>\n",
       "  </tbody>\n",
       "</table>\n",
       "<p>5 rows × 26 columns</p>\n",
       "</div>"
      ],
      "text/plain": [
       "   car_ID  symboling                   CarName fueltype aspiration doornumber  \\\n",
       "0       1          3        alfa-romero giulia      gas        std        two   \n",
       "1       2          3       alfa-romero stelvio      gas        std        two   \n",
       "2       3          1  alfa-romero Quadrifoglio      gas        std        two   \n",
       "3       4          2               audi 100 ls      gas        std       four   \n",
       "4       5          2                audi 100ls      gas        std       four   \n",
       "\n",
       "       carbody drivewheel enginelocation  wheelbase  ...  enginesize  \\\n",
       "0  convertible        rwd          front       88.6  ...         130   \n",
       "1  convertible        rwd          front       88.6  ...         130   \n",
       "2    hatchback        rwd          front       94.5  ...         152   \n",
       "3        sedan        fwd          front       99.8  ...         109   \n",
       "4        sedan        4wd          front       99.4  ...         136   \n",
       "\n",
       "   fuelsystem  boreratio  stroke compressionratio horsepower  peakrpm citympg  \\\n",
       "0        mpfi       3.47    2.68              9.0        111     5000      21   \n",
       "1        mpfi       3.47    2.68              9.0        111     5000      21   \n",
       "2        mpfi       2.68    3.47              9.0        154     5000      19   \n",
       "3        mpfi       3.19    3.40             10.0        102     5500      24   \n",
       "4        mpfi       3.19    3.40              8.0        115     5500      18   \n",
       "\n",
       "   highwaympg    price  \n",
       "0          27  13495.0  \n",
       "1          27  16500.0  \n",
       "2          26  16500.0  \n",
       "3          30  13950.0  \n",
       "4          22  17450.0  \n",
       "\n",
       "[5 rows x 26 columns]"
      ]
     },
     "execution_count": 72,
     "metadata": {},
     "output_type": "execute_result"
    }
   ],
   "source": [
    "cars = pd.read_csv('CarPrice_Assignment.csv')\n",
    "cars.head()"
   ]
  },
  {
   "cell_type": "code",
   "execution_count": 73,
   "metadata": {},
   "outputs": [
    {
     "data": {
      "text/plain": [
       "(205, 26)"
      ]
     },
     "execution_count": 73,
     "metadata": {},
     "output_type": "execute_result"
    }
   ],
   "source": [
    "cars.shape"
   ]
  },
  {
   "cell_type": "code",
   "execution_count": 74,
   "metadata": {},
   "outputs": [
    {
     "data": {
      "text/html": [
       "<div>\n",
       "<style scoped>\n",
       "    .dataframe tbody tr th:only-of-type {\n",
       "        vertical-align: middle;\n",
       "    }\n",
       "\n",
       "    .dataframe tbody tr th {\n",
       "        vertical-align: top;\n",
       "    }\n",
       "\n",
       "    .dataframe thead th {\n",
       "        text-align: right;\n",
       "    }\n",
       "</style>\n",
       "<table border=\"1\" class=\"dataframe\">\n",
       "  <thead>\n",
       "    <tr style=\"text-align: right;\">\n",
       "      <th></th>\n",
       "      <th>car_ID</th>\n",
       "      <th>symboling</th>\n",
       "      <th>wheelbase</th>\n",
       "      <th>carlength</th>\n",
       "      <th>carwidth</th>\n",
       "      <th>carheight</th>\n",
       "      <th>curbweight</th>\n",
       "      <th>enginesize</th>\n",
       "      <th>boreratio</th>\n",
       "      <th>stroke</th>\n",
       "      <th>compressionratio</th>\n",
       "      <th>horsepower</th>\n",
       "      <th>peakrpm</th>\n",
       "      <th>citympg</th>\n",
       "      <th>highwaympg</th>\n",
       "      <th>price</th>\n",
       "    </tr>\n",
       "  </thead>\n",
       "  <tbody>\n",
       "    <tr>\n",
       "      <th>count</th>\n",
       "      <td>205.000000</td>\n",
       "      <td>205.000000</td>\n",
       "      <td>205.000000</td>\n",
       "      <td>205.000000</td>\n",
       "      <td>205.000000</td>\n",
       "      <td>205.000000</td>\n",
       "      <td>205.000000</td>\n",
       "      <td>205.000000</td>\n",
       "      <td>205.000000</td>\n",
       "      <td>205.000000</td>\n",
       "      <td>205.000000</td>\n",
       "      <td>205.000000</td>\n",
       "      <td>205.000000</td>\n",
       "      <td>205.000000</td>\n",
       "      <td>205.000000</td>\n",
       "      <td>205.000000</td>\n",
       "    </tr>\n",
       "    <tr>\n",
       "      <th>mean</th>\n",
       "      <td>103.000000</td>\n",
       "      <td>0.834146</td>\n",
       "      <td>98.756585</td>\n",
       "      <td>174.049268</td>\n",
       "      <td>65.907805</td>\n",
       "      <td>53.724878</td>\n",
       "      <td>2555.565854</td>\n",
       "      <td>126.907317</td>\n",
       "      <td>3.329756</td>\n",
       "      <td>3.255415</td>\n",
       "      <td>10.142537</td>\n",
       "      <td>104.117073</td>\n",
       "      <td>5125.121951</td>\n",
       "      <td>25.219512</td>\n",
       "      <td>30.751220</td>\n",
       "      <td>13276.710571</td>\n",
       "    </tr>\n",
       "    <tr>\n",
       "      <th>std</th>\n",
       "      <td>59.322565</td>\n",
       "      <td>1.245307</td>\n",
       "      <td>6.021776</td>\n",
       "      <td>12.337289</td>\n",
       "      <td>2.145204</td>\n",
       "      <td>2.443522</td>\n",
       "      <td>520.680204</td>\n",
       "      <td>41.642693</td>\n",
       "      <td>0.270844</td>\n",
       "      <td>0.313597</td>\n",
       "      <td>3.972040</td>\n",
       "      <td>39.544167</td>\n",
       "      <td>476.985643</td>\n",
       "      <td>6.542142</td>\n",
       "      <td>6.886443</td>\n",
       "      <td>7988.852332</td>\n",
       "    </tr>\n",
       "    <tr>\n",
       "      <th>min</th>\n",
       "      <td>1.000000</td>\n",
       "      <td>-2.000000</td>\n",
       "      <td>86.600000</td>\n",
       "      <td>141.100000</td>\n",
       "      <td>60.300000</td>\n",
       "      <td>47.800000</td>\n",
       "      <td>1488.000000</td>\n",
       "      <td>61.000000</td>\n",
       "      <td>2.540000</td>\n",
       "      <td>2.070000</td>\n",
       "      <td>7.000000</td>\n",
       "      <td>48.000000</td>\n",
       "      <td>4150.000000</td>\n",
       "      <td>13.000000</td>\n",
       "      <td>16.000000</td>\n",
       "      <td>5118.000000</td>\n",
       "    </tr>\n",
       "    <tr>\n",
       "      <th>25%</th>\n",
       "      <td>52.000000</td>\n",
       "      <td>0.000000</td>\n",
       "      <td>94.500000</td>\n",
       "      <td>166.300000</td>\n",
       "      <td>64.100000</td>\n",
       "      <td>52.000000</td>\n",
       "      <td>2145.000000</td>\n",
       "      <td>97.000000</td>\n",
       "      <td>3.150000</td>\n",
       "      <td>3.110000</td>\n",
       "      <td>8.600000</td>\n",
       "      <td>70.000000</td>\n",
       "      <td>4800.000000</td>\n",
       "      <td>19.000000</td>\n",
       "      <td>25.000000</td>\n",
       "      <td>7788.000000</td>\n",
       "    </tr>\n",
       "    <tr>\n",
       "      <th>50%</th>\n",
       "      <td>103.000000</td>\n",
       "      <td>1.000000</td>\n",
       "      <td>97.000000</td>\n",
       "      <td>173.200000</td>\n",
       "      <td>65.500000</td>\n",
       "      <td>54.100000</td>\n",
       "      <td>2414.000000</td>\n",
       "      <td>120.000000</td>\n",
       "      <td>3.310000</td>\n",
       "      <td>3.290000</td>\n",
       "      <td>9.000000</td>\n",
       "      <td>95.000000</td>\n",
       "      <td>5200.000000</td>\n",
       "      <td>24.000000</td>\n",
       "      <td>30.000000</td>\n",
       "      <td>10295.000000</td>\n",
       "    </tr>\n",
       "    <tr>\n",
       "      <th>75%</th>\n",
       "      <td>154.000000</td>\n",
       "      <td>2.000000</td>\n",
       "      <td>102.400000</td>\n",
       "      <td>183.100000</td>\n",
       "      <td>66.900000</td>\n",
       "      <td>55.500000</td>\n",
       "      <td>2935.000000</td>\n",
       "      <td>141.000000</td>\n",
       "      <td>3.580000</td>\n",
       "      <td>3.410000</td>\n",
       "      <td>9.400000</td>\n",
       "      <td>116.000000</td>\n",
       "      <td>5500.000000</td>\n",
       "      <td>30.000000</td>\n",
       "      <td>34.000000</td>\n",
       "      <td>16503.000000</td>\n",
       "    </tr>\n",
       "    <tr>\n",
       "      <th>max</th>\n",
       "      <td>205.000000</td>\n",
       "      <td>3.000000</td>\n",
       "      <td>120.900000</td>\n",
       "      <td>208.100000</td>\n",
       "      <td>72.300000</td>\n",
       "      <td>59.800000</td>\n",
       "      <td>4066.000000</td>\n",
       "      <td>326.000000</td>\n",
       "      <td>3.940000</td>\n",
       "      <td>4.170000</td>\n",
       "      <td>23.000000</td>\n",
       "      <td>288.000000</td>\n",
       "      <td>6600.000000</td>\n",
       "      <td>49.000000</td>\n",
       "      <td>54.000000</td>\n",
       "      <td>45400.000000</td>\n",
       "    </tr>\n",
       "  </tbody>\n",
       "</table>\n",
       "</div>"
      ],
      "text/plain": [
       "           car_ID   symboling   wheelbase   carlength    carwidth   carheight  \\\n",
       "count  205.000000  205.000000  205.000000  205.000000  205.000000  205.000000   \n",
       "mean   103.000000    0.834146   98.756585  174.049268   65.907805   53.724878   \n",
       "std     59.322565    1.245307    6.021776   12.337289    2.145204    2.443522   \n",
       "min      1.000000   -2.000000   86.600000  141.100000   60.300000   47.800000   \n",
       "25%     52.000000    0.000000   94.500000  166.300000   64.100000   52.000000   \n",
       "50%    103.000000    1.000000   97.000000  173.200000   65.500000   54.100000   \n",
       "75%    154.000000    2.000000  102.400000  183.100000   66.900000   55.500000   \n",
       "max    205.000000    3.000000  120.900000  208.100000   72.300000   59.800000   \n",
       "\n",
       "        curbweight  enginesize   boreratio      stroke  compressionratio  \\\n",
       "count   205.000000  205.000000  205.000000  205.000000        205.000000   \n",
       "mean   2555.565854  126.907317    3.329756    3.255415         10.142537   \n",
       "std     520.680204   41.642693    0.270844    0.313597          3.972040   \n",
       "min    1488.000000   61.000000    2.540000    2.070000          7.000000   \n",
       "25%    2145.000000   97.000000    3.150000    3.110000          8.600000   \n",
       "50%    2414.000000  120.000000    3.310000    3.290000          9.000000   \n",
       "75%    2935.000000  141.000000    3.580000    3.410000          9.400000   \n",
       "max    4066.000000  326.000000    3.940000    4.170000         23.000000   \n",
       "\n",
       "       horsepower      peakrpm     citympg  highwaympg         price  \n",
       "count  205.000000   205.000000  205.000000  205.000000    205.000000  \n",
       "mean   104.117073  5125.121951   25.219512   30.751220  13276.710571  \n",
       "std     39.544167   476.985643    6.542142    6.886443   7988.852332  \n",
       "min     48.000000  4150.000000   13.000000   16.000000   5118.000000  \n",
       "25%     70.000000  4800.000000   19.000000   25.000000   7788.000000  \n",
       "50%     95.000000  5200.000000   24.000000   30.000000  10295.000000  \n",
       "75%    116.000000  5500.000000   30.000000   34.000000  16503.000000  \n",
       "max    288.000000  6600.000000   49.000000   54.000000  45400.000000  "
      ]
     },
     "execution_count": 74,
     "metadata": {},
     "output_type": "execute_result"
    }
   ],
   "source": [
    "cars.describe()"
   ]
  },
  {
   "cell_type": "code",
   "execution_count": 75,
   "metadata": {},
   "outputs": [
    {
     "name": "stdout",
     "output_type": "stream",
     "text": [
      "<class 'pandas.core.frame.DataFrame'>\n",
      "RangeIndex: 205 entries, 0 to 204\n",
      "Data columns (total 26 columns):\n",
      " #   Column            Non-Null Count  Dtype  \n",
      "---  ------            --------------  -----  \n",
      " 0   car_ID            205 non-null    int64  \n",
      " 1   symboling         205 non-null    int64  \n",
      " 2   CarName           205 non-null    object \n",
      " 3   fueltype          205 non-null    object \n",
      " 4   aspiration        205 non-null    object \n",
      " 5   doornumber        205 non-null    object \n",
      " 6   carbody           205 non-null    object \n",
      " 7   drivewheel        205 non-null    object \n",
      " 8   enginelocation    205 non-null    object \n",
      " 9   wheelbase         205 non-null    float64\n",
      " 10  carlength         205 non-null    float64\n",
      " 11  carwidth          205 non-null    float64\n",
      " 12  carheight         205 non-null    float64\n",
      " 13  curbweight        205 non-null    int64  \n",
      " 14  enginetype        205 non-null    object \n",
      " 15  cylindernumber    205 non-null    object \n",
      " 16  enginesize        205 non-null    int64  \n",
      " 17  fuelsystem        205 non-null    object \n",
      " 18  boreratio         205 non-null    float64\n",
      " 19  stroke            205 non-null    float64\n",
      " 20  compressionratio  205 non-null    float64\n",
      " 21  horsepower        205 non-null    int64  \n",
      " 22  peakrpm           205 non-null    int64  \n",
      " 23  citympg           205 non-null    int64  \n",
      " 24  highwaympg        205 non-null    int64  \n",
      " 25  price             205 non-null    float64\n",
      "dtypes: float64(8), int64(8), object(10)\n",
      "memory usage: 41.8+ KB\n"
     ]
    }
   ],
   "source": [
    "cars.info()"
   ]
  },
  {
   "cell_type": "code",
   "execution_count": 76,
   "metadata": {},
   "outputs": [
    {
     "name": "stdout",
     "output_type": "stream",
     "text": [
      "count      205.000000\n",
      "mean     13276.710571\n",
      "std       7988.852332\n",
      "min       5118.000000\n",
      "25%       7788.000000\n",
      "50%      10295.000000\n",
      "75%      16503.000000\n",
      "85%      18500.000000\n",
      "90%      22563.000000\n",
      "100%     45400.000000\n",
      "max      45400.000000\n",
      "Name: price, dtype: float64\n"
     ]
    }
   ],
   "source": [
    "print(cars.price.describe(percentiles = [0.25,0.50,0.75,0.85,0.90,1]))"
   ]
  },
  {
   "cell_type": "markdown",
   "metadata": {},
   "source": [
    "#### Inference :\n",
    "\n",
    "1. The plot seemed to be right-skewed, meaning that the most prices in the dataset are low(Below 15,000).\n",
    "2. There is a significant difference between the mean and the median of the price distribution.\n",
    "3. The data points are far spread out from the mean, which indicates a high variance in the car prices.(85% of the prices are below 18,500, whereas the remaining 15% are between 18,500 and 45,400.)"
   ]
  },
  {
   "cell_type": "markdown",
   "metadata": {},
   "source": [
    "## Step 4: Data Cleaning\n",
    "- Create the column as 'CompanyName' using 'CarName' Column. List down the unique 'CompanyName'.\n",
    "- Check the correctness of data in the 'CompanyName' column.\n",
    "- Check the duplicate data in the dataset."
   ]
  },
  {
   "cell_type": "code",
   "execution_count": 77,
   "metadata": {},
   "outputs": [
    {
     "data": {
      "text/html": [
       "<div>\n",
       "<style scoped>\n",
       "    .dataframe tbody tr th:only-of-type {\n",
       "        vertical-align: middle;\n",
       "    }\n",
       "\n",
       "    .dataframe tbody tr th {\n",
       "        vertical-align: top;\n",
       "    }\n",
       "\n",
       "    .dataframe thead th {\n",
       "        text-align: right;\n",
       "    }\n",
       "</style>\n",
       "<table border=\"1\" class=\"dataframe\">\n",
       "  <thead>\n",
       "    <tr style=\"text-align: right;\">\n",
       "      <th></th>\n",
       "      <th>car_ID</th>\n",
       "      <th>symboling</th>\n",
       "      <th>CompanyName</th>\n",
       "      <th>fueltype</th>\n",
       "      <th>aspiration</th>\n",
       "      <th>doornumber</th>\n",
       "      <th>carbody</th>\n",
       "      <th>drivewheel</th>\n",
       "      <th>enginelocation</th>\n",
       "      <th>wheelbase</th>\n",
       "      <th>...</th>\n",
       "      <th>enginesize</th>\n",
       "      <th>fuelsystem</th>\n",
       "      <th>boreratio</th>\n",
       "      <th>stroke</th>\n",
       "      <th>compressionratio</th>\n",
       "      <th>horsepower</th>\n",
       "      <th>peakrpm</th>\n",
       "      <th>citympg</th>\n",
       "      <th>highwaympg</th>\n",
       "      <th>price</th>\n",
       "    </tr>\n",
       "  </thead>\n",
       "  <tbody>\n",
       "    <tr>\n",
       "      <th>0</th>\n",
       "      <td>1</td>\n",
       "      <td>3</td>\n",
       "      <td>alfa-romero</td>\n",
       "      <td>gas</td>\n",
       "      <td>std</td>\n",
       "      <td>two</td>\n",
       "      <td>convertible</td>\n",
       "      <td>rwd</td>\n",
       "      <td>front</td>\n",
       "      <td>88.6</td>\n",
       "      <td>...</td>\n",
       "      <td>130</td>\n",
       "      <td>mpfi</td>\n",
       "      <td>3.47</td>\n",
       "      <td>2.68</td>\n",
       "      <td>9.0</td>\n",
       "      <td>111</td>\n",
       "      <td>5000</td>\n",
       "      <td>21</td>\n",
       "      <td>27</td>\n",
       "      <td>13495.0</td>\n",
       "    </tr>\n",
       "    <tr>\n",
       "      <th>1</th>\n",
       "      <td>2</td>\n",
       "      <td>3</td>\n",
       "      <td>alfa-romero</td>\n",
       "      <td>gas</td>\n",
       "      <td>std</td>\n",
       "      <td>two</td>\n",
       "      <td>convertible</td>\n",
       "      <td>rwd</td>\n",
       "      <td>front</td>\n",
       "      <td>88.6</td>\n",
       "      <td>...</td>\n",
       "      <td>130</td>\n",
       "      <td>mpfi</td>\n",
       "      <td>3.47</td>\n",
       "      <td>2.68</td>\n",
       "      <td>9.0</td>\n",
       "      <td>111</td>\n",
       "      <td>5000</td>\n",
       "      <td>21</td>\n",
       "      <td>27</td>\n",
       "      <td>16500.0</td>\n",
       "    </tr>\n",
       "    <tr>\n",
       "      <th>2</th>\n",
       "      <td>3</td>\n",
       "      <td>1</td>\n",
       "      <td>alfa-romero</td>\n",
       "      <td>gas</td>\n",
       "      <td>std</td>\n",
       "      <td>two</td>\n",
       "      <td>hatchback</td>\n",
       "      <td>rwd</td>\n",
       "      <td>front</td>\n",
       "      <td>94.5</td>\n",
       "      <td>...</td>\n",
       "      <td>152</td>\n",
       "      <td>mpfi</td>\n",
       "      <td>2.68</td>\n",
       "      <td>3.47</td>\n",
       "      <td>9.0</td>\n",
       "      <td>154</td>\n",
       "      <td>5000</td>\n",
       "      <td>19</td>\n",
       "      <td>26</td>\n",
       "      <td>16500.0</td>\n",
       "    </tr>\n",
       "    <tr>\n",
       "      <th>3</th>\n",
       "      <td>4</td>\n",
       "      <td>2</td>\n",
       "      <td>audi</td>\n",
       "      <td>gas</td>\n",
       "      <td>std</td>\n",
       "      <td>four</td>\n",
       "      <td>sedan</td>\n",
       "      <td>fwd</td>\n",
       "      <td>front</td>\n",
       "      <td>99.8</td>\n",
       "      <td>...</td>\n",
       "      <td>109</td>\n",
       "      <td>mpfi</td>\n",
       "      <td>3.19</td>\n",
       "      <td>3.40</td>\n",
       "      <td>10.0</td>\n",
       "      <td>102</td>\n",
       "      <td>5500</td>\n",
       "      <td>24</td>\n",
       "      <td>30</td>\n",
       "      <td>13950.0</td>\n",
       "    </tr>\n",
       "    <tr>\n",
       "      <th>4</th>\n",
       "      <td>5</td>\n",
       "      <td>2</td>\n",
       "      <td>audi</td>\n",
       "      <td>gas</td>\n",
       "      <td>std</td>\n",
       "      <td>four</td>\n",
       "      <td>sedan</td>\n",
       "      <td>4wd</td>\n",
       "      <td>front</td>\n",
       "      <td>99.4</td>\n",
       "      <td>...</td>\n",
       "      <td>136</td>\n",
       "      <td>mpfi</td>\n",
       "      <td>3.19</td>\n",
       "      <td>3.40</td>\n",
       "      <td>8.0</td>\n",
       "      <td>115</td>\n",
       "      <td>5500</td>\n",
       "      <td>18</td>\n",
       "      <td>22</td>\n",
       "      <td>17450.0</td>\n",
       "    </tr>\n",
       "  </tbody>\n",
       "</table>\n",
       "<p>5 rows × 26 columns</p>\n",
       "</div>"
      ],
      "text/plain": [
       "   car_ID  symboling  CompanyName fueltype aspiration doornumber      carbody  \\\n",
       "0       1          3  alfa-romero      gas        std        two  convertible   \n",
       "1       2          3  alfa-romero      gas        std        two  convertible   \n",
       "2       3          1  alfa-romero      gas        std        two    hatchback   \n",
       "3       4          2         audi      gas        std       four        sedan   \n",
       "4       5          2         audi      gas        std       four        sedan   \n",
       "\n",
       "  drivewheel enginelocation  wheelbase  ...  enginesize  fuelsystem  \\\n",
       "0        rwd          front       88.6  ...         130        mpfi   \n",
       "1        rwd          front       88.6  ...         130        mpfi   \n",
       "2        rwd          front       94.5  ...         152        mpfi   \n",
       "3        fwd          front       99.8  ...         109        mpfi   \n",
       "4        4wd          front       99.4  ...         136        mpfi   \n",
       "\n",
       "   boreratio  stroke compressionratio horsepower  peakrpm citympg  highwaympg  \\\n",
       "0       3.47    2.68              9.0        111     5000      21          27   \n",
       "1       3.47    2.68              9.0        111     5000      21          27   \n",
       "2       2.68    3.47              9.0        154     5000      19          26   \n",
       "3       3.19    3.40             10.0        102     5500      24          30   \n",
       "4       3.19    3.40              8.0        115     5500      18          22   \n",
       "\n",
       "     price  \n",
       "0  13495.0  \n",
       "1  16500.0  \n",
       "2  16500.0  \n",
       "3  13950.0  \n",
       "4  17450.0  \n",
       "\n",
       "[5 rows x 26 columns]"
      ]
     },
     "execution_count": 77,
     "metadata": {},
     "output_type": "execute_result"
    }
   ],
   "source": [
    "#Splitting company name from CarName column\n",
    "CompanyName = cars['CarName'].apply(lambda x : x.split(' ')[0])\n",
    "cars.insert(3,\"CompanyName\",CompanyName)\n",
    "cars.drop(['CarName'],axis=1,inplace=True)\n",
    "cars.head()"
   ]
  },
  {
   "cell_type": "code",
   "execution_count": 78,
   "metadata": {},
   "outputs": [
    {
     "data": {
      "text/plain": [
       "array(['alfa-romero', 'audi', 'bmw', 'chevrolet', 'dodge', 'honda',\n",
       "       'isuzu', 'jaguar', 'maxda', 'mazda', 'buick', 'mercury',\n",
       "       'mitsubishi', 'Nissan', 'nissan', 'peugeot', 'plymouth', 'porsche',\n",
       "       'porcshce', 'renault', 'saab', 'subaru', 'toyota', 'toyouta',\n",
       "       'vokswagen', 'volkswagen', 'vw', 'volvo'], dtype=object)"
      ]
     },
     "execution_count": 78,
     "metadata": {},
     "output_type": "execute_result"
    }
   ],
   "source": [
    "cars.CompanyName.unique()"
   ]
  },
  {
   "cell_type": "markdown",
   "metadata": {},
   "source": [
    "##### Fixing invalid values\n",
    "- There seems to be some spelling error in the CompanyName column.\n",
    "\n",
    "    - `maxda` = `mazda`\n",
    "    - `Nissan` = `nissan`\n",
    "    - `porsche` = `porcshce`\n",
    "    - `toyota` = `toyouta`\n",
    "    - `vokswagen` = `volkswagen` =  `vw`"
   ]
  },
  {
   "cell_type": "code",
   "execution_count": 79,
   "metadata": {},
   "outputs": [
    {
     "data": {
      "text/plain": [
       "array(['alfa-romero', 'audi', 'bmw', 'chevrolet', 'dodge', 'honda',\n",
       "       'isuzu', 'jaguar', 'mazda', 'buick', 'mercury', 'mitsubishi',\n",
       "       'nissan', 'peugeot', 'plymouth', 'porsche', 'renault', 'saab',\n",
       "       'subaru', 'toyota', 'volkswagen', 'volvo'], dtype=object)"
      ]
     },
     "execution_count": 79,
     "metadata": {},
     "output_type": "execute_result"
    }
   ],
   "source": [
    "cars.CompanyName = cars.CompanyName.str.lower()\n",
    "\n",
    "def replace_name(a,b):\n",
    "    cars.CompanyName.replace(a,b,inplace=True)\n",
    "\n",
    "replace_name('maxda','mazda')\n",
    "replace_name('porcshce','porsche')\n",
    "replace_name('toyouta','toyota')\n",
    "replace_name('vokswagen','volkswagen')\n",
    "replace_name('vw','volkswagen')\n",
    "\n",
    "cars.CompanyName.unique()"
   ]
  },
  {
   "cell_type": "code",
   "execution_count": 80,
   "metadata": {
    "scrolled": true
   },
   "outputs": [
    {
     "data": {
      "text/html": [
       "<div>\n",
       "<style scoped>\n",
       "    .dataframe tbody tr th:only-of-type {\n",
       "        vertical-align: middle;\n",
       "    }\n",
       "\n",
       "    .dataframe tbody tr th {\n",
       "        vertical-align: top;\n",
       "    }\n",
       "\n",
       "    .dataframe thead th {\n",
       "        text-align: right;\n",
       "    }\n",
       "</style>\n",
       "<table border=\"1\" class=\"dataframe\">\n",
       "  <thead>\n",
       "    <tr style=\"text-align: right;\">\n",
       "      <th></th>\n",
       "      <th>car_ID</th>\n",
       "      <th>symboling</th>\n",
       "      <th>CompanyName</th>\n",
       "      <th>fueltype</th>\n",
       "      <th>aspiration</th>\n",
       "      <th>doornumber</th>\n",
       "      <th>carbody</th>\n",
       "      <th>drivewheel</th>\n",
       "      <th>enginelocation</th>\n",
       "      <th>wheelbase</th>\n",
       "      <th>...</th>\n",
       "      <th>enginesize</th>\n",
       "      <th>fuelsystem</th>\n",
       "      <th>boreratio</th>\n",
       "      <th>stroke</th>\n",
       "      <th>compressionratio</th>\n",
       "      <th>horsepower</th>\n",
       "      <th>peakrpm</th>\n",
       "      <th>citympg</th>\n",
       "      <th>highwaympg</th>\n",
       "      <th>price</th>\n",
       "    </tr>\n",
       "  </thead>\n",
       "  <tbody>\n",
       "  </tbody>\n",
       "</table>\n",
       "<p>0 rows × 26 columns</p>\n",
       "</div>"
      ],
      "text/plain": [
       "Empty DataFrame\n",
       "Columns: [car_ID, symboling, CompanyName, fueltype, aspiration, doornumber, carbody, drivewheel, enginelocation, wheelbase, carlength, carwidth, carheight, curbweight, enginetype, cylindernumber, enginesize, fuelsystem, boreratio, stroke, compressionratio, horsepower, peakrpm, citympg, highwaympg, price]\n",
       "Index: []\n",
       "\n",
       "[0 rows x 26 columns]"
      ]
     },
     "execution_count": 80,
     "metadata": {},
     "output_type": "execute_result"
    }
   ],
   "source": [
    "#Checking for duplicates\n",
    "cars.loc[cars.duplicated()]"
   ]
  },
  {
   "cell_type": "markdown",
   "metadata": {},
   "source": [
    "### no duplicates present"
   ]
  },
  {
   "cell_type": "code",
   "execution_count": 81,
   "metadata": {},
   "outputs": [
    {
     "data": {
      "text/plain": [
       "Index(['car_ID', 'symboling', 'CompanyName', 'fueltype', 'aspiration',\n",
       "       'doornumber', 'carbody', 'drivewheel', 'enginelocation', 'wheelbase',\n",
       "       'carlength', 'carwidth', 'carheight', 'curbweight', 'enginetype',\n",
       "       'cylindernumber', 'enginesize', 'fuelsystem', 'boreratio', 'stroke',\n",
       "       'compressionratio', 'horsepower', 'peakrpm', 'citympg', 'highwaympg',\n",
       "       'price'],\n",
       "      dtype='object')"
      ]
     },
     "execution_count": 81,
     "metadata": {},
     "output_type": "execute_result"
    }
   ],
   "source": [
    "cars.columns"
   ]
  },
  {
   "cell_type": "markdown",
   "metadata": {},
   "source": [
    "## Step 5: Exploratory Data Analysis\n",
    "- Visualize the 'price' column using displot and boxplot. Write down the observations.\n",
    "- Perform the appropriate transformation to make the target as a gaussian distribution.\n",
    "- Check the linear relationship between the dependent variable \"Price\" and the numerical independent variables\n",
    "- Checking the multicollinearity between the correlated independent variables above and Price\n",
    "- Perform Univariate, Bivariate, and Multivariate analyses to find the factors that affect the Target variables.\n",
    "- Perform feature engineering based on sound knowledge of the business problem and available dataset\n"
   ]
  },
  {
   "cell_type": "code",
   "execution_count": 82,
   "metadata": {},
   "outputs": [
    {
     "data": {
      "image/png": "[encoded data removed]",
      "text/plain": [
       "<Figure size 1440x576 with 2 Axes>"
      ]
     },
     "metadata": {
      "needs_background": "light"
     },
     "output_type": "display_data"
    }
   ],
   "source": [
    "plt.figure(figsize=(20,8))\n",
    "\n",
    "plt.subplot(1,2,1)\n",
    "plt.title('Car Price Distribution Plot')\n",
    "sns.distplot(cars.price)\n",
    "\n",
    "plt.subplot(1,2,2)\n",
    "plt.title('Car Price Spread')\n",
    "sns.boxplot(y=cars.price)\n",
    "\n",
    "plt.show()"
   ]
  },
  {
   "cell_type": "code",
   "execution_count": 83,
   "metadata": {},
   "outputs": [
    {
     "name": "stdout",
     "output_type": "stream",
     "text": [
      "count      205.000000\n",
      "mean     13276.710571\n",
      "std       7988.852332\n",
      "min       5118.000000\n",
      "25%       7788.000000\n",
      "50%      10295.000000\n",
      "75%      16503.000000\n",
      "85%      18500.000000\n",
      "90%      22563.000000\n",
      "100%     45400.000000\n",
      "max      45400.000000\n",
      "Name: price, dtype: float64\n"
     ]
    }
   ],
   "source": [
    "print(cars.price.describe(percentiles = [0.25,0.50,0.75,0.85,0.90,1]))"
   ]
  },
  {
   "cell_type": "markdown",
   "metadata": {},
   "source": [
    "#### Inference :\n",
    "\n",
    "1. The plot seemed to be right-skewed, meaning that the most prices in the dataset are low(Below 15,000).\n",
    "2. There is a significant difference between the mean and the median of the price distribution.\n",
    "3. The data points are far spread out from the mean, which indicates a high variance in the car prices.(85% of the prices are below 18,500, whereas the remaining 15% are between 18,500 and 45,400.)"
   ]
  },
  {
   "cell_type": "markdown",
   "metadata": {},
   "source": [
    "####  Visualising Categorical Data:\n",
    "\n",
    "    - CompanyName\n",
    "    - Symboling\n",
    "    - fueltype\n",
    "    - enginetype\n",
    "    - carbody\n",
    "    - doornumber\n",
    "    - enginelocation\n",
    "    - fuelsystem\n",
    "    - cylindernumber\n",
    "    - aspiration\n",
    "    - drivewheel\n",
    "    "
   ]
  },
  {
   "cell_type": "code",
   "execution_count": 84,
   "metadata": {},
   "outputs": [
    {
     "data": {
      "image/png": "[encoded data removed]",
      "text/plain": [
       "<Figure size 1800x432 with 3 Axes>"
      ]
     },
     "metadata": {
      "needs_background": "light"
     },
     "output_type": "display_data"
    }
   ],
   "source": [
    "plt.figure(figsize=(25, 6))\n",
    "\n",
    "plt.subplot(1,3,1)\n",
    "plt1 = cars.CompanyName.value_counts().plot(kind='bar')\n",
    "plt.title('Companies Histogram')\n",
    "plt1.set(xlabel = 'Car company', ylabel='Frequency of company')\n",
    "\n",
    "plt.subplot(1,3,2)\n",
    "plt1 = cars.fueltype.value_counts().plot(kind='bar')\n",
    "plt.title('Fuel Type Histogram')\n",
    "plt1.set(xlabel = 'Fuel Type', ylabel='Frequency of fuel type')\n",
    "\n",
    "plt.subplot(1,3,3)\n",
    "plt1 = cars.carbody.value_counts().plot(kind='bar')\n",
    "plt.title('Car Type Histogram')\n",
    "plt1.set(xlabel = 'Car Type', ylabel='Frequency of Car type')\n",
    "\n",
    "plt.show()"
   ]
  },
  {
   "cell_type": "markdown",
   "metadata": {},
   "source": [
    "#### Inference :\n",
    "\n",
    "1. `Toyota` seemed to be favored car company.\n",
    "2. Number of `gas` fueled cars are more than `diesel`.\n",
    "3. `sedan` is the top car type prefered."
   ]
  },
  {
   "cell_type": "code",
   "execution_count": 85,
   "metadata": {},
   "outputs": [
    {
     "data": {
      "image/png": "[encoded data removed]",
      "text/plain": [
       "<Figure size 1440x576 with 2 Axes>"
      ]
     },
     "metadata": {
      "needs_background": "light"
     },
     "output_type": "display_data"
    }
   ],
   "source": [
    "plt.figure(figsize=(20,8))\n",
    "\n",
    "plt.subplot(1,2,1)\n",
    "plt.title('Symboling Histogram')\n",
    "sns.countplot(cars.symboling, palette=(\"cubehelix\"))\n",
    "\n",
    "plt.subplot(1,2,2)  \n",
    "plt.title('Symboling vs Price')\n",
    "sns.boxplot(x=cars.symboling, y=cars.price, palette=(\"cubehelix\"))\n",
    "\n",
    "plt.show()"
   ]
  },
  {
   "cell_type": "markdown",
   "metadata": {},
   "source": [
    "#### Inference :\n",
    "\n",
    "1. It seems that the symboling with `0` and `1` values have high number of rows (i.e. They are safe and most sold.)\n",
    "2. The cars with `-1` symboling seems to be high priced (as it makes sense too, insurance risk rating -1 is quite good). But it seems that symboling with `3` value has the price range similar to `-2` value. There is a dip in price at symboling `1`."
   ]
  },
  {
   "cell_type": "code",
   "execution_count": 86,
   "metadata": {},
   "outputs": [
    {
     "data": {
      "image/png": "[encoded data removed]",
      "text/plain": [
       "<Figure size 1440x576 with 2 Axes>"
      ]
     },
     "metadata": {
      "needs_background": "light"
     },
     "output_type": "display_data"
    },
    {
     "data": {
      "image/png": "[encoded data removed]",
      "text/plain": [
       "<Figure size 576x432 with 1 Axes>"
      ]
     },
     "metadata": {
      "needs_background": "light"
     },
     "output_type": "display_data"
    }
   ],
   "source": [
    "plt.figure(figsize=(20,8))\n",
    "\n",
    "plt.subplot(1,2,1)\n",
    "plt.title('Engine Type Histogram')\n",
    "sns.countplot(cars.enginetype, palette=(\"Blues_d\"))\n",
    "\n",
    "plt.subplot(1,2,2)\n",
    "plt.title('Engine Type vs Price')\n",
    "sns.boxplot(x=cars.enginetype, y=cars.price, palette=(\"PuBuGn\"))\n",
    "\n",
    "plt.show()\n",
    "\n",
    "df = pd.DataFrame(cars.groupby(['enginetype'])['price'].mean().sort_values(ascending = False))\n",
    "df.plot.bar(figsize=(8,6))\n",
    "plt.title('Engine Type vs Price')\n",
    "plt.show()\n"
   ]
  },
  {
   "cell_type": "markdown",
   "metadata": {},
   "source": [
    "#### Inference :\n",
    "\n",
    "1. `ohc` Engine type seems to be most favored type.\n",
    "2. `ohcv` has the highest price range (While `dohcv` has only one row), `ohc` and `ohcf` have the low price range."
   ]
  },
  {
   "cell_type": "code",
   "execution_count": 87,
   "metadata": {},
   "outputs": [
    {
     "data": {
      "text/plain": [
       "<Figure size 1800x432 with 0 Axes>"
      ]
     },
     "metadata": {},
     "output_type": "display_data"
    },
    {
     "data": {
      "image/png": "[encoded data removed]",
      "text/plain": [
       "<Figure size 432x288 with 1 Axes>"
      ]
     },
     "metadata": {
      "needs_background": "light"
     },
     "output_type": "display_data"
    },
    {
     "data": {
      "image/png": "[encoded data removed]",
      "text/plain": [
       "<Figure size 432x288 with 1 Axes>"
      ]
     },
     "metadata": {
      "needs_background": "light"
     },
     "output_type": "display_data"
    },
    {
     "data": {
      "image/png": "[encoded data removed]",
      "text/plain": [
       "<Figure size 432x288 with 1 Axes>"
      ]
     },
     "metadata": {
      "needs_background": "light"
     },
     "output_type": "display_data"
    }
   ],
   "source": [
    "plt.figure(figsize=(25, 6))\n",
    "\n",
    "df = pd.DataFrame(cars.groupby(['CompanyName'])['price'].mean().sort_values(ascending = False))\n",
    "df.plot.bar()\n",
    "plt.title('Company Name vs Average Price')\n",
    "plt.show()\n",
    "\n",
    "df = pd.DataFrame(cars.groupby(['fueltype'])['price'].mean().sort_values(ascending = False))\n",
    "df.plot.bar()\n",
    "plt.title('Fuel Type vs Average Price')\n",
    "plt.show()\n",
    "\n",
    "df = pd.DataFrame(cars.groupby(['carbody'])['price'].mean().sort_values(ascending = False))\n",
    "df.plot.bar()\n",
    "plt.title('Car Type vs Average Price')\n",
    "plt.show()"
   ]
  },
  {
   "cell_type": "markdown",
   "metadata": {},
   "source": [
    "#### Inference :\n",
    "\n",
    "1. `Jaguar` and `Buick` seem to have highest average price.\n",
    "2. `diesel` has higher average price than  gas.\n",
    "3. `hardtop` and `convertible` have higher average price."
   ]
  },
  {
   "cell_type": "code",
   "execution_count": 88,
   "metadata": {
    "scrolled": true
   },
   "outputs": [
    {
     "data": {
      "image/png": "[encoded data removed]",
      "text/plain": [
       "<Figure size 1080x360 with 2 Axes>"
      ]
     },
     "metadata": {
      "needs_background": "light"
     },
     "output_type": "display_data"
    },
    {
     "data": {
      "image/png": "[encoded data removed]",
      "text/plain": [
       "<Figure size 1080x360 with 2 Axes>"
      ]
     },
     "metadata": {
      "needs_background": "light"
     },
     "output_type": "display_data"
    }
   ],
   "source": [
    "plt.figure(figsize=(15,5))\n",
    "\n",
    "plt.subplot(1,2,1)\n",
    "plt.title('Door Number Histogram')\n",
    "sns.countplot(cars.doornumber, palette=(\"plasma\"))\n",
    "\n",
    "plt.subplot(1,2,2)\n",
    "plt.title('Door Number vs Price')\n",
    "sns.boxplot(x=cars.doornumber, y=cars.price, palette=(\"plasma\"))\n",
    "\n",
    "plt.show()\n",
    "\n",
    "plt.figure(figsize=(15,5))\n",
    "\n",
    "plt.subplot(1,2,1)\n",
    "plt.title('Aspiration Histogram')\n",
    "sns.countplot(cars.aspiration, palette=(\"plasma\"))\n",
    "\n",
    "plt.subplot(1,2,2)\n",
    "plt.title('Aspiration vs Price')\n",
    "sns.boxplot(x=cars.aspiration, y=cars.price, palette=(\"plasma\"))\n",
    "\n",
    "plt.show()\n"
   ]
  },
  {
   "cell_type": "markdown",
   "metadata": {},
   "source": [
    "#### Inference :\n",
    "\n",
    "1. `doornumber` variable is not affacting the price much. There is no sugnificant difference between the categories in it.\n",
    "2. It seems aspiration with `turbo` have higher price range than the `std`(though it has some high values outside the whiskers.)"
   ]
  },
  {
   "cell_type": "code",
   "execution_count": 89,
   "metadata": {},
   "outputs": [
    {
     "data": {
      "image/png": "[encoded data removed]",
      "text/plain": [
       "<Figure size 1080x1440 with 8 Axes>"
      ]
     },
     "metadata": {
      "needs_background": "light"
     },
     "output_type": "display_data"
    }
   ],
   "source": [
    "def plot_count(x,fig):\n",
    "    plt.subplot(4,2,fig)\n",
    "    plt.title(x+' Histogram')\n",
    "    sns.countplot(cars[x],palette=(\"magma\"))\n",
    "    plt.subplot(4,2,(fig+1))\n",
    "    plt.title(x+' vs Price')\n",
    "    sns.boxplot(x=cars[x], y=cars.price, palette=(\"magma\"))\n",
    "    \n",
    "plt.figure(figsize=(15,20))\n",
    "\n",
    "plot_count('enginelocation', 1)\n",
    "plot_count('cylindernumber', 3)\n",
    "plot_count('fuelsystem', 5)\n",
    "plot_count('drivewheel', 7)\n",
    "\n",
    "plt.tight_layout()"
   ]
  },
  {
   "cell_type": "markdown",
   "metadata": {},
   "source": [
    "#### Inference :\n",
    "\n",
    "1. Very few datapoints for `enginelocation` categories to make an inference.\n",
    "2. Most common number of cylinders are `four`, `six` and `five`. Though `eight` cylinders have the highest price range.\n",
    "3. `mpfi` and `2bbl` are most common type of fuel systems. `mpfi` and `idi` having the highest price range. But there are few data for other categories to derive any meaningful inference\n",
    "4. A very significant difference in drivewheel category. Most high ranged cars seeme to prefer `rwd` drivewheel."
   ]
  },
  {
   "cell_type": "markdown",
   "metadata": {},
   "source": [
    "####  Visualising numerical data:"
   ]
  },
  {
   "cell_type": "code",
   "execution_count": 90,
   "metadata": {},
   "outputs": [
    {
     "data": {
      "image/png": "[encoded data removed]",
      "text/plain": [
       "<Figure size 720x1440 with 4 Axes>"
      ]
     },
     "metadata": {
      "needs_background": "light"
     },
     "output_type": "display_data"
    }
   ],
   "source": [
    "def scatter(x,fig):\n",
    "    plt.subplot(5,2,fig)\n",
    "    plt.scatter(cars[x],cars['price'])\n",
    "    plt.title(x+' vs Price')\n",
    "    plt.ylabel('Price')\n",
    "    plt.xlabel(x)\n",
    "\n",
    "plt.figure(figsize=(10,20))\n",
    "\n",
    "scatter('carlength', 1)\n",
    "scatter('carwidth', 2)\n",
    "scatter('carheight', 3)\n",
    "scatter('curbweight', 4)\n",
    "\n",
    "plt.tight_layout()"
   ]
  },
  {
   "cell_type": "markdown",
   "metadata": {},
   "source": [
    "#### Inference :\n",
    "\n",
    "1. `carwidth`, `carlength` and `curbweight` seems to have a poitive correlation with `price`. \n",
    "2. `carheight` doesn't show any significant trend with price."
   ]
  },
  {
   "cell_type": "code",
   "execution_count": 91,
   "metadata": {},
   "outputs": [
    {
     "data": {
      "image/png": "[encoded data removed]",
      "text/plain": [
       "<Figure size 864x288 with 3 Axes>"
      ]
     },
     "metadata": {
      "needs_background": "light"
     },
     "output_type": "display_data"
    },
    {
     "data": {
      "image/png": "[encoded data removed]",
      "text/plain": [
       "<Figure size 864x288 with 3 Axes>"
      ]
     },
     "metadata": {
      "needs_background": "light"
     },
     "output_type": "display_data"
    },
    {
     "data": {
      "image/png": "[encoded data removed]",
      "text/plain": [
       "<Figure size 864x288 with 3 Axes>"
      ]
     },
     "metadata": {
      "needs_background": "light"
     },
     "output_type": "display_data"
    }
   ],
   "source": [
    "def pp(x,y,z):\n",
    "    sns.pairplot(cars, x_vars=[x,y,z], y_vars='price',size=4, aspect=1, kind='scatter')\n",
    "    plt.show()\n",
    "\n",
    "pp('enginesize', 'boreratio', 'stroke')\n",
    "pp('compressionratio', 'horsepower', 'peakrpm')\n",
    "pp('wheelbase', 'citympg', 'highwaympg')"
   ]
  },
  {
   "cell_type": "markdown",
   "metadata": {},
   "source": [
    "#### Inference :\n",
    "\n",
    "1. `enginesize`, `boreratio`, `horsepower`, `wheelbase` - seem to have a significant positive correlation with price.\n",
    "2. `citympg`, `highwaympg` - seem to have a significant negative correlation with price."
   ]
  },
  {
   "cell_type": "code",
   "execution_count": 92,
   "metadata": {},
   "outputs": [
    {
     "data": {
      "text/plain": [
       "0.841118268481846"
      ]
     },
     "execution_count": 92,
     "metadata": {},
     "output_type": "execute_result"
    }
   ],
   "source": [
    "np.corrcoef(cars['carlength'], cars['carwidth'])[0, 1]"
   ]
  },
  {
   "cell_type": "markdown",
   "metadata": {},
   "source": [
    "### Deriving new features (feature engineering):"
   ]
  },
  {
   "cell_type": "code",
   "execution_count": 93,
   "metadata": {},
   "outputs": [],
   "source": [
    "#Fuel economy\n",
    "cars['fueleconomy'] = (0.55 * cars['citympg']) + (0.45 * cars['highwaympg'])"
   ]
  },
  {
   "cell_type": "code",
   "execution_count": 94,
   "metadata": {},
   "outputs": [
    {
     "data": {
      "text/html": [
       "<div>\n",
       "<style scoped>\n",
       "    .dataframe tbody tr th:only-of-type {\n",
       "        vertical-align: middle;\n",
       "    }\n",
       "\n",
       "    .dataframe tbody tr th {\n",
       "        vertical-align: top;\n",
       "    }\n",
       "\n",
       "    .dataframe thead th {\n",
       "        text-align: right;\n",
       "    }\n",
       "</style>\n",
       "<table border=\"1\" class=\"dataframe\">\n",
       "  <thead>\n",
       "    <tr style=\"text-align: right;\">\n",
       "      <th></th>\n",
       "      <th>car_ID</th>\n",
       "      <th>symboling</th>\n",
       "      <th>CompanyName</th>\n",
       "      <th>fueltype</th>\n",
       "      <th>aspiration</th>\n",
       "      <th>doornumber</th>\n",
       "      <th>carbody</th>\n",
       "      <th>drivewheel</th>\n",
       "      <th>enginelocation</th>\n",
       "      <th>wheelbase</th>\n",
       "      <th>...</th>\n",
       "      <th>boreratio</th>\n",
       "      <th>stroke</th>\n",
       "      <th>compressionratio</th>\n",
       "      <th>horsepower</th>\n",
       "      <th>peakrpm</th>\n",
       "      <th>citympg</th>\n",
       "      <th>highwaympg</th>\n",
       "      <th>price</th>\n",
       "      <th>fueleconomy</th>\n",
       "      <th>carsrange</th>\n",
       "    </tr>\n",
       "  </thead>\n",
       "  <tbody>\n",
       "    <tr>\n",
       "      <th>0</th>\n",
       "      <td>1</td>\n",
       "      <td>3</td>\n",
       "      <td>alfa-romero</td>\n",
       "      <td>gas</td>\n",
       "      <td>std</td>\n",
       "      <td>two</td>\n",
       "      <td>convertible</td>\n",
       "      <td>rwd</td>\n",
       "      <td>front</td>\n",
       "      <td>88.6</td>\n",
       "      <td>...</td>\n",
       "      <td>3.47</td>\n",
       "      <td>2.68</td>\n",
       "      <td>9.0</td>\n",
       "      <td>111</td>\n",
       "      <td>5000</td>\n",
       "      <td>21</td>\n",
       "      <td>27</td>\n",
       "      <td>13495</td>\n",
       "      <td>23.70</td>\n",
       "      <td>Medium</td>\n",
       "    </tr>\n",
       "    <tr>\n",
       "      <th>1</th>\n",
       "      <td>2</td>\n",
       "      <td>3</td>\n",
       "      <td>alfa-romero</td>\n",
       "      <td>gas</td>\n",
       "      <td>std</td>\n",
       "      <td>two</td>\n",
       "      <td>convertible</td>\n",
       "      <td>rwd</td>\n",
       "      <td>front</td>\n",
       "      <td>88.6</td>\n",
       "      <td>...</td>\n",
       "      <td>3.47</td>\n",
       "      <td>2.68</td>\n",
       "      <td>9.0</td>\n",
       "      <td>111</td>\n",
       "      <td>5000</td>\n",
       "      <td>21</td>\n",
       "      <td>27</td>\n",
       "      <td>16500</td>\n",
       "      <td>23.70</td>\n",
       "      <td>Medium</td>\n",
       "    </tr>\n",
       "    <tr>\n",
       "      <th>2</th>\n",
       "      <td>3</td>\n",
       "      <td>1</td>\n",
       "      <td>alfa-romero</td>\n",
       "      <td>gas</td>\n",
       "      <td>std</td>\n",
       "      <td>two</td>\n",
       "      <td>hatchback</td>\n",
       "      <td>rwd</td>\n",
       "      <td>front</td>\n",
       "      <td>94.5</td>\n",
       "      <td>...</td>\n",
       "      <td>2.68</td>\n",
       "      <td>3.47</td>\n",
       "      <td>9.0</td>\n",
       "      <td>154</td>\n",
       "      <td>5000</td>\n",
       "      <td>19</td>\n",
       "      <td>26</td>\n",
       "      <td>16500</td>\n",
       "      <td>22.15</td>\n",
       "      <td>Medium</td>\n",
       "    </tr>\n",
       "    <tr>\n",
       "      <th>3</th>\n",
       "      <td>4</td>\n",
       "      <td>2</td>\n",
       "      <td>audi</td>\n",
       "      <td>gas</td>\n",
       "      <td>std</td>\n",
       "      <td>four</td>\n",
       "      <td>sedan</td>\n",
       "      <td>fwd</td>\n",
       "      <td>front</td>\n",
       "      <td>99.8</td>\n",
       "      <td>...</td>\n",
       "      <td>3.19</td>\n",
       "      <td>3.40</td>\n",
       "      <td>10.0</td>\n",
       "      <td>102</td>\n",
       "      <td>5500</td>\n",
       "      <td>24</td>\n",
       "      <td>30</td>\n",
       "      <td>13950</td>\n",
       "      <td>26.70</td>\n",
       "      <td>Medium</td>\n",
       "    </tr>\n",
       "    <tr>\n",
       "      <th>4</th>\n",
       "      <td>5</td>\n",
       "      <td>2</td>\n",
       "      <td>audi</td>\n",
       "      <td>gas</td>\n",
       "      <td>std</td>\n",
       "      <td>four</td>\n",
       "      <td>sedan</td>\n",
       "      <td>4wd</td>\n",
       "      <td>front</td>\n",
       "      <td>99.4</td>\n",
       "      <td>...</td>\n",
       "      <td>3.19</td>\n",
       "      <td>3.40</td>\n",
       "      <td>8.0</td>\n",
       "      <td>115</td>\n",
       "      <td>5500</td>\n",
       "      <td>18</td>\n",
       "      <td>22</td>\n",
       "      <td>17450</td>\n",
       "      <td>19.80</td>\n",
       "      <td>Medium</td>\n",
       "    </tr>\n",
       "  </tbody>\n",
       "</table>\n",
       "<p>5 rows × 28 columns</p>\n",
       "</div>"
      ],
      "text/plain": [
       "   car_ID  symboling  CompanyName fueltype aspiration doornumber      carbody  \\\n",
       "0       1          3  alfa-romero      gas        std        two  convertible   \n",
       "1       2          3  alfa-romero      gas        std        two  convertible   \n",
       "2       3          1  alfa-romero      gas        std        two    hatchback   \n",
       "3       4          2         audi      gas        std       four        sedan   \n",
       "4       5          2         audi      gas        std       four        sedan   \n",
       "\n",
       "  drivewheel enginelocation  wheelbase  ...  boreratio  stroke  \\\n",
       "0        rwd          front       88.6  ...       3.47    2.68   \n",
       "1        rwd          front       88.6  ...       3.47    2.68   \n",
       "2        rwd          front       94.5  ...       2.68    3.47   \n",
       "3        fwd          front       99.8  ...       3.19    3.40   \n",
       "4        4wd          front       99.4  ...       3.19    3.40   \n",
       "\n",
       "   compressionratio  horsepower peakrpm citympg  highwaympg  price  \\\n",
       "0               9.0         111    5000      21          27  13495   \n",
       "1               9.0         111    5000      21          27  16500   \n",
       "2               9.0         154    5000      19          26  16500   \n",
       "3              10.0         102    5500      24          30  13950   \n",
       "4               8.0         115    5500      18          22  17450   \n",
       "\n",
       "   fueleconomy  carsrange  \n",
       "0        23.70     Medium  \n",
       "1        23.70     Medium  \n",
       "2        22.15     Medium  \n",
       "3        26.70     Medium  \n",
       "4        19.80     Medium  \n",
       "\n",
       "[5 rows x 28 columns]"
      ]
     },
     "execution_count": 94,
     "metadata": {},
     "output_type": "execute_result"
    }
   ],
   "source": [
    "#Binning the Car Companies based on avg prices of each Company.\n",
    "cars['price'] = cars['price'].astype('int')\n",
    "temp = cars.copy()\n",
    "table = temp.groupby(['CompanyName'])['price'].mean()\n",
    "temp = temp.merge(table.reset_index(), how='left',on='CompanyName')\n",
    "bins = [0,10000,20000,40000]\n",
    "cars_bin=['Budget','Medium','Highend']\n",
    "cars['carsrange'] = pd.cut(temp['price_y'],bins,right=False,labels=cars_bin)\n",
    "cars.head()"
   ]
  },
  {
   "cell_type": "markdown",
   "metadata": {},
   "source": [
    "### Bivariate Analysis:"
   ]
  },
  {
   "cell_type": "code",
   "execution_count": 95,
   "metadata": {},
   "outputs": [
    {
     "data": {
      "image/png": "[encoded data removed]",
      "text/plain": [
       "<Figure size 576x432 with 1 Axes>"
      ]
     },
     "metadata": {
      "needs_background": "light"
     },
     "output_type": "display_data"
    },
    {
     "data": {
      "text/plain": [
       "<Figure size 432x288 with 0 Axes>"
      ]
     },
     "metadata": {},
     "output_type": "display_data"
    }
   ],
   "source": [
    "plt.figure(figsize=(8,6))\n",
    "\n",
    "plt.title('Fuel economy vs Price')\n",
    "sns.scatterplot(x=cars['fueleconomy'],y=cars['price'],hue=cars['drivewheel'])\n",
    "plt.xlabel('Fuel Economy')\n",
    "plt.ylabel('Price')\n",
    "\n",
    "plt.show()\n",
    "plt.tight_layout()"
   ]
  },
  {
   "cell_type": "markdown",
   "metadata": {},
   "source": [
    "#### Inference :\n",
    "\n",
    "1. `fueleconomy` has an obvios `negative correlation` with price and is significant."
   ]
  },
  {
   "cell_type": "code",
   "execution_count": 96,
   "metadata": {},
   "outputs": [
    {
     "data": {
      "text/plain": [
       "<Figure size 1800x432 with 0 Axes>"
      ]
     },
     "metadata": {},
     "output_type": "display_data"
    },
    {
     "data": {
      "image/png": "[encoded data removed]",
      "text/plain": [
       "<Figure size 432x288 with 1 Axes>"
      ]
     },
     "metadata": {
      "needs_background": "light"
     },
     "output_type": "display_data"
    }
   ],
   "source": [
    "plt.figure(figsize=(25, 6))\n",
    "\n",
    "df = pd.DataFrame(cars.groupby(['fuelsystem','drivewheel','carsrange'])['price'].mean().unstack(fill_value=0))\n",
    "df.plot.bar()\n",
    "plt.title('Car Range vs Average Price')\n",
    "plt.show()"
   ]
  },
  {
   "cell_type": "markdown",
   "metadata": {},
   "source": [
    "#### Inference :\n",
    "\n",
    "1. High ranged cars prefer `rwd` drivewheel with `idi` or `mpfi` fuelsystem."
   ]
  },
  {
   "cell_type": "markdown",
   "metadata": {},
   "source": [
    "### List of significant variables after Visual analysis :\n",
    "\n",
    "    - Car Range \n",
    "    - Engine Type \n",
    "    - Fuel type \n",
    "    - Car Body \n",
    "    - Aspiration \n",
    "    - Cylinder Number \n",
    "    - Drivewheel \n",
    "    - Curbweight \n",
    "    - Car Length\n",
    "    - Car width\n",
    "    - Engine Size \n",
    "    - Boreratio \n",
    "    - Horse Power \n",
    "    - Wheel base \n",
    "    - Fuel Economy "
   ]
  },
  {
   "cell_type": "code",
   "execution_count": 97,
   "metadata": {
    "scrolled": false
   },
   "outputs": [
    {
     "data": {
      "text/html": [
       "<div>\n",
       "<style scoped>\n",
       "    .dataframe tbody tr th:only-of-type {\n",
       "        vertical-align: middle;\n",
       "    }\n",
       "\n",
       "    .dataframe tbody tr th {\n",
       "        vertical-align: top;\n",
       "    }\n",
       "\n",
       "    .dataframe thead th {\n",
       "        text-align: right;\n",
       "    }\n",
       "</style>\n",
       "<table border=\"1\" class=\"dataframe\">\n",
       "  <thead>\n",
       "    <tr style=\"text-align: right;\">\n",
       "      <th></th>\n",
       "      <th>price</th>\n",
       "      <th>fueltype</th>\n",
       "      <th>aspiration</th>\n",
       "      <th>carbody</th>\n",
       "      <th>drivewheel</th>\n",
       "      <th>wheelbase</th>\n",
       "      <th>curbweight</th>\n",
       "      <th>enginetype</th>\n",
       "      <th>cylindernumber</th>\n",
       "      <th>enginesize</th>\n",
       "      <th>boreratio</th>\n",
       "      <th>horsepower</th>\n",
       "      <th>fueleconomy</th>\n",
       "      <th>carlength</th>\n",
       "      <th>carwidth</th>\n",
       "      <th>carsrange</th>\n",
       "    </tr>\n",
       "  </thead>\n",
       "  <tbody>\n",
       "    <tr>\n",
       "      <th>0</th>\n",
       "      <td>13495</td>\n",
       "      <td>gas</td>\n",
       "      <td>std</td>\n",
       "      <td>convertible</td>\n",
       "      <td>rwd</td>\n",
       "      <td>88.6</td>\n",
       "      <td>2548</td>\n",
       "      <td>dohc</td>\n",
       "      <td>four</td>\n",
       "      <td>130</td>\n",
       "      <td>3.47</td>\n",
       "      <td>111</td>\n",
       "      <td>23.70</td>\n",
       "      <td>168.8</td>\n",
       "      <td>64.1</td>\n",
       "      <td>Medium</td>\n",
       "    </tr>\n",
       "    <tr>\n",
       "      <th>1</th>\n",
       "      <td>16500</td>\n",
       "      <td>gas</td>\n",
       "      <td>std</td>\n",
       "      <td>convertible</td>\n",
       "      <td>rwd</td>\n",
       "      <td>88.6</td>\n",
       "      <td>2548</td>\n",
       "      <td>dohc</td>\n",
       "      <td>four</td>\n",
       "      <td>130</td>\n",
       "      <td>3.47</td>\n",
       "      <td>111</td>\n",
       "      <td>23.70</td>\n",
       "      <td>168.8</td>\n",
       "      <td>64.1</td>\n",
       "      <td>Medium</td>\n",
       "    </tr>\n",
       "    <tr>\n",
       "      <th>2</th>\n",
       "      <td>16500</td>\n",
       "      <td>gas</td>\n",
       "      <td>std</td>\n",
       "      <td>hatchback</td>\n",
       "      <td>rwd</td>\n",
       "      <td>94.5</td>\n",
       "      <td>2823</td>\n",
       "      <td>ohcv</td>\n",
       "      <td>six</td>\n",
       "      <td>152</td>\n",
       "      <td>2.68</td>\n",
       "      <td>154</td>\n",
       "      <td>22.15</td>\n",
       "      <td>171.2</td>\n",
       "      <td>65.5</td>\n",
       "      <td>Medium</td>\n",
       "    </tr>\n",
       "    <tr>\n",
       "      <th>3</th>\n",
       "      <td>13950</td>\n",
       "      <td>gas</td>\n",
       "      <td>std</td>\n",
       "      <td>sedan</td>\n",
       "      <td>fwd</td>\n",
       "      <td>99.8</td>\n",
       "      <td>2337</td>\n",
       "      <td>ohc</td>\n",
       "      <td>four</td>\n",
       "      <td>109</td>\n",
       "      <td>3.19</td>\n",
       "      <td>102</td>\n",
       "      <td>26.70</td>\n",
       "      <td>176.6</td>\n",
       "      <td>66.2</td>\n",
       "      <td>Medium</td>\n",
       "    </tr>\n",
       "    <tr>\n",
       "      <th>4</th>\n",
       "      <td>17450</td>\n",
       "      <td>gas</td>\n",
       "      <td>std</td>\n",
       "      <td>sedan</td>\n",
       "      <td>4wd</td>\n",
       "      <td>99.4</td>\n",
       "      <td>2824</td>\n",
       "      <td>ohc</td>\n",
       "      <td>five</td>\n",
       "      <td>136</td>\n",
       "      <td>3.19</td>\n",
       "      <td>115</td>\n",
       "      <td>19.80</td>\n",
       "      <td>176.6</td>\n",
       "      <td>66.4</td>\n",
       "      <td>Medium</td>\n",
       "    </tr>\n",
       "  </tbody>\n",
       "</table>\n",
       "</div>"
      ],
      "text/plain": [
       "   price fueltype aspiration      carbody drivewheel  wheelbase  curbweight  \\\n",
       "0  13495      gas        std  convertible        rwd       88.6        2548   \n",
       "1  16500      gas        std  convertible        rwd       88.6        2548   \n",
       "2  16500      gas        std    hatchback        rwd       94.5        2823   \n",
       "3  13950      gas        std        sedan        fwd       99.8        2337   \n",
       "4  17450      gas        std        sedan        4wd       99.4        2824   \n",
       "\n",
       "  enginetype cylindernumber  enginesize  boreratio  horsepower  fueleconomy  \\\n",
       "0       dohc           four         130       3.47         111        23.70   \n",
       "1       dohc           four         130       3.47         111        23.70   \n",
       "2       ohcv            six         152       2.68         154        22.15   \n",
       "3        ohc           four         109       3.19         102        26.70   \n",
       "4        ohc           five         136       3.19         115        19.80   \n",
       "\n",
       "   carlength  carwidth carsrange  \n",
       "0      168.8      64.1    Medium  \n",
       "1      168.8      64.1    Medium  \n",
       "2      171.2      65.5    Medium  \n",
       "3      176.6      66.2    Medium  \n",
       "4      176.6      66.4    Medium  "
      ]
     },
     "execution_count": 97,
     "metadata": {},
     "output_type": "execute_result"
    }
   ],
   "source": [
    "cars_lr = cars[['price', 'fueltype', 'aspiration','carbody', 'drivewheel','wheelbase',\n",
    "                  'curbweight', 'enginetype', 'cylindernumber', 'enginesize', 'boreratio','horsepower', \n",
    "                    'fueleconomy', 'carlength','carwidth', 'carsrange']]\n",
    "cars_lr.head()"
   ]
  },
  {
   "cell_type": "markdown",
   "metadata": {},
   "source": [
    "## Step 6: Perform the preprocessing that is required for the model."
   ]
  },
  {
   "cell_type": "code",
   "execution_count": 98,
   "metadata": {},
   "outputs": [],
   "source": [
    "# Defining the map function\n",
    "def dummies(x,df):\n",
    "    temp = pd.get_dummies(df[x], drop_first = True)\n",
    "    df = pd.concat([df, temp], axis = 1)\n",
    "    df.drop([x], axis = 1, inplace = True)\n",
    "    return df\n",
    "# Applying the function to the cars_lr\n",
    "\n",
    "cars_lr = dummies('fueltype',cars_lr)\n",
    "cars_lr = dummies('aspiration',cars_lr)\n",
    "cars_lr = dummies('carbody',cars_lr)\n",
    "cars_lr = dummies('drivewheel',cars_lr)\n",
    "cars_lr = dummies('enginetype',cars_lr)\n",
    "cars_lr = dummies('cylindernumber',cars_lr)\n",
    "cars_lr = dummies('carsrange',cars_lr)"
   ]
  },
  {
   "cell_type": "code",
   "execution_count": 99,
   "metadata": {},
   "outputs": [
    {
     "data": {
      "text/html": [
       "<div>\n",
       "<style scoped>\n",
       "    .dataframe tbody tr th:only-of-type {\n",
       "        vertical-align: middle;\n",
       "    }\n",
       "\n",
       "    .dataframe tbody tr th {\n",
       "        vertical-align: top;\n",
       "    }\n",
       "\n",
       "    .dataframe thead th {\n",
       "        text-align: right;\n",
       "    }\n",
       "</style>\n",
       "<table border=\"1\" class=\"dataframe\">\n",
       "  <thead>\n",
       "    <tr style=\"text-align: right;\">\n",
       "      <th></th>\n",
       "      <th>price</th>\n",
       "      <th>wheelbase</th>\n",
       "      <th>curbweight</th>\n",
       "      <th>enginesize</th>\n",
       "      <th>boreratio</th>\n",
       "      <th>horsepower</th>\n",
       "      <th>fueleconomy</th>\n",
       "      <th>carlength</th>\n",
       "      <th>carwidth</th>\n",
       "      <th>gas</th>\n",
       "      <th>...</th>\n",
       "      <th>ohcv</th>\n",
       "      <th>rotor</th>\n",
       "      <th>five</th>\n",
       "      <th>four</th>\n",
       "      <th>six</th>\n",
       "      <th>three</th>\n",
       "      <th>twelve</th>\n",
       "      <th>two</th>\n",
       "      <th>Medium</th>\n",
       "      <th>Highend</th>\n",
       "    </tr>\n",
       "  </thead>\n",
       "  <tbody>\n",
       "    <tr>\n",
       "      <th>0</th>\n",
       "      <td>13495</td>\n",
       "      <td>88.6</td>\n",
       "      <td>2548</td>\n",
       "      <td>130</td>\n",
       "      <td>3.47</td>\n",
       "      <td>111</td>\n",
       "      <td>23.70</td>\n",
       "      <td>168.8</td>\n",
       "      <td>64.1</td>\n",
       "      <td>1</td>\n",
       "      <td>...</td>\n",
       "      <td>0</td>\n",
       "      <td>0</td>\n",
       "      <td>0</td>\n",
       "      <td>1</td>\n",
       "      <td>0</td>\n",
       "      <td>0</td>\n",
       "      <td>0</td>\n",
       "      <td>0</td>\n",
       "      <td>1</td>\n",
       "      <td>0</td>\n",
       "    </tr>\n",
       "    <tr>\n",
       "      <th>1</th>\n",
       "      <td>16500</td>\n",
       "      <td>88.6</td>\n",
       "      <td>2548</td>\n",
       "      <td>130</td>\n",
       "      <td>3.47</td>\n",
       "      <td>111</td>\n",
       "      <td>23.70</td>\n",
       "      <td>168.8</td>\n",
       "      <td>64.1</td>\n",
       "      <td>1</td>\n",
       "      <td>...</td>\n",
       "      <td>0</td>\n",
       "      <td>0</td>\n",
       "      <td>0</td>\n",
       "      <td>1</td>\n",
       "      <td>0</td>\n",
       "      <td>0</td>\n",
       "      <td>0</td>\n",
       "      <td>0</td>\n",
       "      <td>1</td>\n",
       "      <td>0</td>\n",
       "    </tr>\n",
       "    <tr>\n",
       "      <th>2</th>\n",
       "      <td>16500</td>\n",
       "      <td>94.5</td>\n",
       "      <td>2823</td>\n",
       "      <td>152</td>\n",
       "      <td>2.68</td>\n",
       "      <td>154</td>\n",
       "      <td>22.15</td>\n",
       "      <td>171.2</td>\n",
       "      <td>65.5</td>\n",
       "      <td>1</td>\n",
       "      <td>...</td>\n",
       "      <td>1</td>\n",
       "      <td>0</td>\n",
       "      <td>0</td>\n",
       "      <td>0</td>\n",
       "      <td>1</td>\n",
       "      <td>0</td>\n",
       "      <td>0</td>\n",
       "      <td>0</td>\n",
       "      <td>1</td>\n",
       "      <td>0</td>\n",
       "    </tr>\n",
       "    <tr>\n",
       "      <th>3</th>\n",
       "      <td>13950</td>\n",
       "      <td>99.8</td>\n",
       "      <td>2337</td>\n",
       "      <td>109</td>\n",
       "      <td>3.19</td>\n",
       "      <td>102</td>\n",
       "      <td>26.70</td>\n",
       "      <td>176.6</td>\n",
       "      <td>66.2</td>\n",
       "      <td>1</td>\n",
       "      <td>...</td>\n",
       "      <td>0</td>\n",
       "      <td>0</td>\n",
       "      <td>0</td>\n",
       "      <td>1</td>\n",
       "      <td>0</td>\n",
       "      <td>0</td>\n",
       "      <td>0</td>\n",
       "      <td>0</td>\n",
       "      <td>1</td>\n",
       "      <td>0</td>\n",
       "    </tr>\n",
       "    <tr>\n",
       "      <th>4</th>\n",
       "      <td>17450</td>\n",
       "      <td>99.4</td>\n",
       "      <td>2824</td>\n",
       "      <td>136</td>\n",
       "      <td>3.19</td>\n",
       "      <td>115</td>\n",
       "      <td>19.80</td>\n",
       "      <td>176.6</td>\n",
       "      <td>66.4</td>\n",
       "      <td>1</td>\n",
       "      <td>...</td>\n",
       "      <td>0</td>\n",
       "      <td>0</td>\n",
       "      <td>1</td>\n",
       "      <td>0</td>\n",
       "      <td>0</td>\n",
       "      <td>0</td>\n",
       "      <td>0</td>\n",
       "      <td>0</td>\n",
       "      <td>1</td>\n",
       "      <td>0</td>\n",
       "    </tr>\n",
       "  </tbody>\n",
       "</table>\n",
       "<p>5 rows × 31 columns</p>\n",
       "</div>"
      ],
      "text/plain": [
       "   price  wheelbase  curbweight  enginesize  boreratio  horsepower  \\\n",
       "0  13495       88.6        2548         130       3.47         111   \n",
       "1  16500       88.6        2548         130       3.47         111   \n",
       "2  16500       94.5        2823         152       2.68         154   \n",
       "3  13950       99.8        2337         109       3.19         102   \n",
       "4  17450       99.4        2824         136       3.19         115   \n",
       "\n",
       "   fueleconomy  carlength  carwidth  gas  ...  ohcv  rotor  five  four  six  \\\n",
       "0        23.70      168.8      64.1    1  ...     0      0     0     1    0   \n",
       "1        23.70      168.8      64.1    1  ...     0      0     0     1    0   \n",
       "2        22.15      171.2      65.5    1  ...     1      0     0     0    1   \n",
       "3        26.70      176.6      66.2    1  ...     0      0     0     1    0   \n",
       "4        19.80      176.6      66.4    1  ...     0      0     1     0    0   \n",
       "\n",
       "   three  twelve  two  Medium  Highend  \n",
       "0      0       0    0       1        0  \n",
       "1      0       0    0       1        0  \n",
       "2      0       0    0       1        0  \n",
       "3      0       0    0       1        0  \n",
       "4      0       0    0       1        0  \n",
       "\n",
       "[5 rows x 31 columns]"
      ]
     },
     "execution_count": 99,
     "metadata": {},
     "output_type": "execute_result"
    }
   ],
   "source": [
    "cars_lr.head()"
   ]
  },
  {
   "cell_type": "code",
   "execution_count": 100,
   "metadata": {},
   "outputs": [
    {
     "data": {
      "text/plain": [
       "(205, 31)"
      ]
     },
     "execution_count": 100,
     "metadata": {},
     "output_type": "execute_result"
    }
   ],
   "source": [
    "\n",
    "\n",
    "\n",
    "cars_lr.shape"
   ]
  },
  {
   "cell_type": "markdown",
   "metadata": {},
   "source": [
    "## Step 7: Split the dataset into train and test data sets and perform the scaling on both                          sets if necessary."
   ]
  },
  {
   "cell_type": "code",
   "execution_count": 101,
   "metadata": {},
   "outputs": [],
   "source": [
    "from sklearn.model_selection import train_test_split\n",
    "\n",
    "np.random.seed(0)\n",
    "df_train, df_test = train_test_split(cars_lr, train_size = 0.7, test_size = 0.3, random_state = 100)"
   ]
  },
  {
   "cell_type": "code",
   "execution_count": 102,
   "metadata": {},
   "outputs": [],
   "source": [
    "from sklearn.preprocessing import MinMaxScaler\n",
    "\n",
    "scaler = MinMaxScaler()\n",
    "num_vars = ['wheelbase', 'curbweight', 'enginesize', 'boreratio', 'horsepower','fueleconomy','carlength','carwidth','price']\n",
    "df_train[num_vars] = scaler.fit_transform(df_train[num_vars])"
   ]
  },
  {
   "cell_type": "code",
   "execution_count": 103,
   "metadata": {},
   "outputs": [
    {
     "data": {
      "text/html": [
       "<div>\n",
       "<style scoped>\n",
       "    .dataframe tbody tr th:only-of-type {\n",
       "        vertical-align: middle;\n",
       "    }\n",
       "\n",
       "    .dataframe tbody tr th {\n",
       "        vertical-align: top;\n",
       "    }\n",
       "\n",
       "    .dataframe thead th {\n",
       "        text-align: right;\n",
       "    }\n",
       "</style>\n",
       "<table border=\"1\" class=\"dataframe\">\n",
       "  <thead>\n",
       "    <tr style=\"text-align: right;\">\n",
       "      <th></th>\n",
       "      <th>price</th>\n",
       "      <th>wheelbase</th>\n",
       "      <th>curbweight</th>\n",
       "      <th>enginesize</th>\n",
       "      <th>boreratio</th>\n",
       "      <th>horsepower</th>\n",
       "      <th>fueleconomy</th>\n",
       "      <th>carlength</th>\n",
       "      <th>carwidth</th>\n",
       "      <th>gas</th>\n",
       "      <th>...</th>\n",
       "      <th>ohcv</th>\n",
       "      <th>rotor</th>\n",
       "      <th>five</th>\n",
       "      <th>four</th>\n",
       "      <th>six</th>\n",
       "      <th>three</th>\n",
       "      <th>twelve</th>\n",
       "      <th>two</th>\n",
       "      <th>Medium</th>\n",
       "      <th>Highend</th>\n",
       "    </tr>\n",
       "  </thead>\n",
       "  <tbody>\n",
       "    <tr>\n",
       "      <th>122</th>\n",
       "      <td>0.068818</td>\n",
       "      <td>0.244828</td>\n",
       "      <td>0.272692</td>\n",
       "      <td>0.139623</td>\n",
       "      <td>0.230159</td>\n",
       "      <td>0.083333</td>\n",
       "      <td>0.530864</td>\n",
       "      <td>0.426016</td>\n",
       "      <td>0.291667</td>\n",
       "      <td>1</td>\n",
       "      <td>...</td>\n",
       "      <td>0</td>\n",
       "      <td>0</td>\n",
       "      <td>0</td>\n",
       "      <td>1</td>\n",
       "      <td>0</td>\n",
       "      <td>0</td>\n",
       "      <td>0</td>\n",
       "      <td>0</td>\n",
       "      <td>0</td>\n",
       "      <td>0</td>\n",
       "    </tr>\n",
       "    <tr>\n",
       "      <th>125</th>\n",
       "      <td>0.466890</td>\n",
       "      <td>0.272414</td>\n",
       "      <td>0.500388</td>\n",
       "      <td>0.339623</td>\n",
       "      <td>1.000000</td>\n",
       "      <td>0.395833</td>\n",
       "      <td>0.213992</td>\n",
       "      <td>0.452033</td>\n",
       "      <td>0.666667</td>\n",
       "      <td>1</td>\n",
       "      <td>...</td>\n",
       "      <td>0</td>\n",
       "      <td>0</td>\n",
       "      <td>0</td>\n",
       "      <td>1</td>\n",
       "      <td>0</td>\n",
       "      <td>0</td>\n",
       "      <td>0</td>\n",
       "      <td>0</td>\n",
       "      <td>0</td>\n",
       "      <td>1</td>\n",
       "    </tr>\n",
       "    <tr>\n",
       "      <th>166</th>\n",
       "      <td>0.122110</td>\n",
       "      <td>0.272414</td>\n",
       "      <td>0.314973</td>\n",
       "      <td>0.139623</td>\n",
       "      <td>0.444444</td>\n",
       "      <td>0.266667</td>\n",
       "      <td>0.344307</td>\n",
       "      <td>0.448780</td>\n",
       "      <td>0.308333</td>\n",
       "      <td>1</td>\n",
       "      <td>...</td>\n",
       "      <td>0</td>\n",
       "      <td>0</td>\n",
       "      <td>0</td>\n",
       "      <td>1</td>\n",
       "      <td>0</td>\n",
       "      <td>0</td>\n",
       "      <td>0</td>\n",
       "      <td>0</td>\n",
       "      <td>0</td>\n",
       "      <td>0</td>\n",
       "    </tr>\n",
       "    <tr>\n",
       "      <th>1</th>\n",
       "      <td>0.314446</td>\n",
       "      <td>0.068966</td>\n",
       "      <td>0.411171</td>\n",
       "      <td>0.260377</td>\n",
       "      <td>0.626984</td>\n",
       "      <td>0.262500</td>\n",
       "      <td>0.244170</td>\n",
       "      <td>0.450407</td>\n",
       "      <td>0.316667</td>\n",
       "      <td>1</td>\n",
       "      <td>...</td>\n",
       "      <td>0</td>\n",
       "      <td>0</td>\n",
       "      <td>0</td>\n",
       "      <td>1</td>\n",
       "      <td>0</td>\n",
       "      <td>0</td>\n",
       "      <td>0</td>\n",
       "      <td>0</td>\n",
       "      <td>1</td>\n",
       "      <td>0</td>\n",
       "    </tr>\n",
       "    <tr>\n",
       "      <th>199</th>\n",
       "      <td>0.382131</td>\n",
       "      <td>0.610345</td>\n",
       "      <td>0.647401</td>\n",
       "      <td>0.260377</td>\n",
       "      <td>0.746032</td>\n",
       "      <td>0.475000</td>\n",
       "      <td>0.122085</td>\n",
       "      <td>0.775610</td>\n",
       "      <td>0.575000</td>\n",
       "      <td>1</td>\n",
       "      <td>...</td>\n",
       "      <td>0</td>\n",
       "      <td>0</td>\n",
       "      <td>0</td>\n",
       "      <td>1</td>\n",
       "      <td>0</td>\n",
       "      <td>0</td>\n",
       "      <td>0</td>\n",
       "      <td>0</td>\n",
       "      <td>1</td>\n",
       "      <td>0</td>\n",
       "    </tr>\n",
       "  </tbody>\n",
       "</table>\n",
       "<p>5 rows × 31 columns</p>\n",
       "</div>"
      ],
      "text/plain": [
       "        price  wheelbase  curbweight  enginesize  boreratio  horsepower  \\\n",
       "122  0.068818   0.244828    0.272692    0.139623   0.230159    0.083333   \n",
       "125  0.466890   0.272414    0.500388    0.339623   1.000000    0.395833   \n",
       "166  0.122110   0.272414    0.314973    0.139623   0.444444    0.266667   \n",
       "1    0.314446   0.068966    0.411171    0.260377   0.626984    0.262500   \n",
       "199  0.382131   0.610345    0.647401    0.260377   0.746032    0.475000   \n",
       "\n",
       "     fueleconomy  carlength  carwidth  gas  ...  ohcv  rotor  five  four  six  \\\n",
       "122     0.530864   0.426016  0.291667    1  ...     0      0     0     1    0   \n",
       "125     0.213992   0.452033  0.666667    1  ...     0      0     0     1    0   \n",
       "166     0.344307   0.448780  0.308333    1  ...     0      0     0     1    0   \n",
       "1       0.244170   0.450407  0.316667    1  ...     0      0     0     1    0   \n",
       "199     0.122085   0.775610  0.575000    1  ...     0      0     0     1    0   \n",
       "\n",
       "     three  twelve  two  Medium  Highend  \n",
       "122      0       0    0       0        0  \n",
       "125      0       0    0       0        1  \n",
       "166      0       0    0       0        0  \n",
       "1        0       0    0       1        0  \n",
       "199      0       0    0       1        0  \n",
       "\n",
       "[5 rows x 31 columns]"
      ]
     },
     "execution_count": 103,
     "metadata": {},
     "output_type": "execute_result"
    }
   ],
   "source": [
    "df_train.head()"
   ]
  },
  {
   "cell_type": "code",
   "execution_count": 104,
   "metadata": {},
   "outputs": [
    {
     "data": {
      "text/html": [
       "<div>\n",
       "<style scoped>\n",
       "    .dataframe tbody tr th:only-of-type {\n",
       "        vertical-align: middle;\n",
       "    }\n",
       "\n",
       "    .dataframe tbody tr th {\n",
       "        vertical-align: top;\n",
       "    }\n",
       "\n",
       "    .dataframe thead th {\n",
       "        text-align: right;\n",
       "    }\n",
       "</style>\n",
       "<table border=\"1\" class=\"dataframe\">\n",
       "  <thead>\n",
       "    <tr style=\"text-align: right;\">\n",
       "      <th></th>\n",
       "      <th>price</th>\n",
       "      <th>wheelbase</th>\n",
       "      <th>curbweight</th>\n",
       "      <th>enginesize</th>\n",
       "      <th>boreratio</th>\n",
       "      <th>horsepower</th>\n",
       "      <th>fueleconomy</th>\n",
       "      <th>carlength</th>\n",
       "      <th>carwidth</th>\n",
       "      <th>gas</th>\n",
       "      <th>...</th>\n",
       "      <th>ohcv</th>\n",
       "      <th>rotor</th>\n",
       "      <th>five</th>\n",
       "      <th>four</th>\n",
       "      <th>six</th>\n",
       "      <th>three</th>\n",
       "      <th>twelve</th>\n",
       "      <th>two</th>\n",
       "      <th>Medium</th>\n",
       "      <th>Highend</th>\n",
       "    </tr>\n",
       "  </thead>\n",
       "  <tbody>\n",
       "    <tr>\n",
       "      <th>count</th>\n",
       "      <td>143.000000</td>\n",
       "      <td>143.000000</td>\n",
       "      <td>143.000000</td>\n",
       "      <td>143.000000</td>\n",
       "      <td>143.000000</td>\n",
       "      <td>143.000000</td>\n",
       "      <td>143.000000</td>\n",
       "      <td>143.000000</td>\n",
       "      <td>143.000000</td>\n",
       "      <td>143.000000</td>\n",
       "      <td>...</td>\n",
       "      <td>143.000000</td>\n",
       "      <td>143.000000</td>\n",
       "      <td>143.000000</td>\n",
       "      <td>143.000000</td>\n",
       "      <td>143.000000</td>\n",
       "      <td>143.000000</td>\n",
       "      <td>143.000000</td>\n",
       "      <td>143.000000</td>\n",
       "      <td>143.000000</td>\n",
       "      <td>143.000000</td>\n",
       "    </tr>\n",
       "    <tr>\n",
       "      <th>mean</th>\n",
       "      <td>0.219309</td>\n",
       "      <td>0.411141</td>\n",
       "      <td>0.407878</td>\n",
       "      <td>0.241351</td>\n",
       "      <td>0.497946</td>\n",
       "      <td>0.227302</td>\n",
       "      <td>0.358265</td>\n",
       "      <td>0.525476</td>\n",
       "      <td>0.461655</td>\n",
       "      <td>0.909091</td>\n",
       "      <td>...</td>\n",
       "      <td>0.062937</td>\n",
       "      <td>0.027972</td>\n",
       "      <td>0.062937</td>\n",
       "      <td>0.741259</td>\n",
       "      <td>0.132867</td>\n",
       "      <td>0.006993</td>\n",
       "      <td>0.006993</td>\n",
       "      <td>0.027972</td>\n",
       "      <td>0.412587</td>\n",
       "      <td>0.118881</td>\n",
       "    </tr>\n",
       "    <tr>\n",
       "      <th>std</th>\n",
       "      <td>0.215682</td>\n",
       "      <td>0.205581</td>\n",
       "      <td>0.211269</td>\n",
       "      <td>0.154619</td>\n",
       "      <td>0.207140</td>\n",
       "      <td>0.165511</td>\n",
       "      <td>0.185980</td>\n",
       "      <td>0.204848</td>\n",
       "      <td>0.184517</td>\n",
       "      <td>0.288490</td>\n",
       "      <td>...</td>\n",
       "      <td>0.243703</td>\n",
       "      <td>0.165472</td>\n",
       "      <td>0.243703</td>\n",
       "      <td>0.439483</td>\n",
       "      <td>0.340624</td>\n",
       "      <td>0.083624</td>\n",
       "      <td>0.083624</td>\n",
       "      <td>0.165472</td>\n",
       "      <td>0.494030</td>\n",
       "      <td>0.324786</td>\n",
       "    </tr>\n",
       "    <tr>\n",
       "      <th>min</th>\n",
       "      <td>0.000000</td>\n",
       "      <td>0.000000</td>\n",
       "      <td>0.000000</td>\n",
       "      <td>0.000000</td>\n",
       "      <td>0.000000</td>\n",
       "      <td>0.000000</td>\n",
       "      <td>0.000000</td>\n",
       "      <td>0.000000</td>\n",
       "      <td>0.000000</td>\n",
       "      <td>0.000000</td>\n",
       "      <td>...</td>\n",
       "      <td>0.000000</td>\n",
       "      <td>0.000000</td>\n",
       "      <td>0.000000</td>\n",
       "      <td>0.000000</td>\n",
       "      <td>0.000000</td>\n",
       "      <td>0.000000</td>\n",
       "      <td>0.000000</td>\n",
       "      <td>0.000000</td>\n",
       "      <td>0.000000</td>\n",
       "      <td>0.000000</td>\n",
       "    </tr>\n",
       "    <tr>\n",
       "      <th>25%</th>\n",
       "      <td>0.067298</td>\n",
       "      <td>0.272414</td>\n",
       "      <td>0.245539</td>\n",
       "      <td>0.135849</td>\n",
       "      <td>0.305556</td>\n",
       "      <td>0.091667</td>\n",
       "      <td>0.198903</td>\n",
       "      <td>0.399187</td>\n",
       "      <td>0.304167</td>\n",
       "      <td>1.000000</td>\n",
       "      <td>...</td>\n",
       "      <td>0.000000</td>\n",
       "      <td>0.000000</td>\n",
       "      <td>0.000000</td>\n",
       "      <td>0.000000</td>\n",
       "      <td>0.000000</td>\n",
       "      <td>0.000000</td>\n",
       "      <td>0.000000</td>\n",
       "      <td>0.000000</td>\n",
       "      <td>0.000000</td>\n",
       "      <td>0.000000</td>\n",
       "    </tr>\n",
       "    <tr>\n",
       "      <th>50%</th>\n",
       "      <td>0.140343</td>\n",
       "      <td>0.341379</td>\n",
       "      <td>0.355702</td>\n",
       "      <td>0.184906</td>\n",
       "      <td>0.500000</td>\n",
       "      <td>0.191667</td>\n",
       "      <td>0.344307</td>\n",
       "      <td>0.502439</td>\n",
       "      <td>0.425000</td>\n",
       "      <td>1.000000</td>\n",
       "      <td>...</td>\n",
       "      <td>0.000000</td>\n",
       "      <td>0.000000</td>\n",
       "      <td>0.000000</td>\n",
       "      <td>1.000000</td>\n",
       "      <td>0.000000</td>\n",
       "      <td>0.000000</td>\n",
       "      <td>0.000000</td>\n",
       "      <td>0.000000</td>\n",
       "      <td>0.000000</td>\n",
       "      <td>0.000000</td>\n",
       "    </tr>\n",
       "    <tr>\n",
       "      <th>75%</th>\n",
       "      <td>0.313479</td>\n",
       "      <td>0.503448</td>\n",
       "      <td>0.559542</td>\n",
       "      <td>0.301887</td>\n",
       "      <td>0.682540</td>\n",
       "      <td>0.283333</td>\n",
       "      <td>0.512346</td>\n",
       "      <td>0.669919</td>\n",
       "      <td>0.550000</td>\n",
       "      <td>1.000000</td>\n",
       "      <td>...</td>\n",
       "      <td>0.000000</td>\n",
       "      <td>0.000000</td>\n",
       "      <td>0.000000</td>\n",
       "      <td>1.000000</td>\n",
       "      <td>0.000000</td>\n",
       "      <td>0.000000</td>\n",
       "      <td>0.000000</td>\n",
       "      <td>0.000000</td>\n",
       "      <td>1.000000</td>\n",
       "      <td>0.000000</td>\n",
       "    </tr>\n",
       "    <tr>\n",
       "      <th>max</th>\n",
       "      <td>1.000000</td>\n",
       "      <td>1.000000</td>\n",
       "      <td>1.000000</td>\n",
       "      <td>1.000000</td>\n",
       "      <td>1.000000</td>\n",
       "      <td>1.000000</td>\n",
       "      <td>1.000000</td>\n",
       "      <td>1.000000</td>\n",
       "      <td>1.000000</td>\n",
       "      <td>1.000000</td>\n",
       "      <td>...</td>\n",
       "      <td>1.000000</td>\n",
       "      <td>1.000000</td>\n",
       "      <td>1.000000</td>\n",
       "      <td>1.000000</td>\n",
       "      <td>1.000000</td>\n",
       "      <td>1.000000</td>\n",
       "      <td>1.000000</td>\n",
       "      <td>1.000000</td>\n",
       "      <td>1.000000</td>\n",
       "      <td>1.000000</td>\n",
       "    </tr>\n",
       "  </tbody>\n",
       "</table>\n",
       "<p>8 rows × 31 columns</p>\n",
       "</div>"
      ],
      "text/plain": [
       "            price   wheelbase  curbweight  enginesize   boreratio  horsepower  \\\n",
       "count  143.000000  143.000000  143.000000  143.000000  143.000000  143.000000   \n",
       "mean     0.219309    0.411141    0.407878    0.241351    0.497946    0.227302   \n",
       "std      0.215682    0.205581    0.211269    0.154619    0.207140    0.165511   \n",
       "min      0.000000    0.000000    0.000000    0.000000    0.000000    0.000000   \n",
       "25%      0.067298    0.272414    0.245539    0.135849    0.305556    0.091667   \n",
       "50%      0.140343    0.341379    0.355702    0.184906    0.500000    0.191667   \n",
       "75%      0.313479    0.503448    0.559542    0.301887    0.682540    0.283333   \n",
       "max      1.000000    1.000000    1.000000    1.000000    1.000000    1.000000   \n",
       "\n",
       "       fueleconomy   carlength    carwidth         gas  ...        ohcv  \\\n",
       "count   143.000000  143.000000  143.000000  143.000000  ...  143.000000   \n",
       "mean      0.358265    0.525476    0.461655    0.909091  ...    0.062937   \n",
       "std       0.185980    0.204848    0.184517    0.288490  ...    0.243703   \n",
       "min       0.000000    0.000000    0.000000    0.000000  ...    0.000000   \n",
       "25%       0.198903    0.399187    0.304167    1.000000  ...    0.000000   \n",
       "50%       0.344307    0.502439    0.425000    1.000000  ...    0.000000   \n",
       "75%       0.512346    0.669919    0.550000    1.000000  ...    0.000000   \n",
       "max       1.000000    1.000000    1.000000    1.000000  ...    1.000000   \n",
       "\n",
       "            rotor        five        four         six       three      twelve  \\\n",
       "count  143.000000  143.000000  143.000000  143.000000  143.000000  143.000000   \n",
       "mean     0.027972    0.062937    0.741259    0.132867    0.006993    0.006993   \n",
       "std      0.165472    0.243703    0.439483    0.340624    0.083624    0.083624   \n",
       "min      0.000000    0.000000    0.000000    0.000000    0.000000    0.000000   \n",
       "25%      0.000000    0.000000    0.000000    0.000000    0.000000    0.000000   \n",
       "50%      0.000000    0.000000    1.000000    0.000000    0.000000    0.000000   \n",
       "75%      0.000000    0.000000    1.000000    0.000000    0.000000    0.000000   \n",
       "max      1.000000    1.000000    1.000000    1.000000    1.000000    1.000000   \n",
       "\n",
       "              two      Medium     Highend  \n",
       "count  143.000000  143.000000  143.000000  \n",
       "mean     0.027972    0.412587    0.118881  \n",
       "std      0.165472    0.494030    0.324786  \n",
       "min      0.000000    0.000000    0.000000  \n",
       "25%      0.000000    0.000000    0.000000  \n",
       "50%      0.000000    0.000000    0.000000  \n",
       "75%      0.000000    1.000000    0.000000  \n",
       "max      1.000000    1.000000    1.000000  \n",
       "\n",
       "[8 rows x 31 columns]"
      ]
     },
     "execution_count": 104,
     "metadata": {},
     "output_type": "execute_result"
    }
   ],
   "source": [
    "df_train.describe()"
   ]
  },
  {
   "cell_type": "code",
   "execution_count": 105,
   "metadata": {},
   "outputs": [
    {
     "data": {
      "image/png": "[encoded data removed]",
      "text/plain": [
       "<Figure size 2160x1800 with 2 Axes>"
      ]
     },
     "metadata": {
      "needs_background": "light"
     },
     "output_type": "display_data"
    }
   ],
   "source": [
    "#Correlation using heatmap\n",
    "plt.figure(figsize = (30, 25))\n",
    "sns.heatmap(cars.corr(), annot = True,mask=np.triu(cars.corr(),+1), cmap=\"plasma\")\n",
    "plt.show()"
   ]
  },
  {
   "cell_type": "markdown",
   "metadata": {},
   "source": [
    "Highly correlated variables to price are - `curbweight`, `enginesize`, `horsepower`,`carwidth` and `highend`."
   ]
  },
  {
   "cell_type": "code",
   "execution_count": 106,
   "metadata": {},
   "outputs": [
    {
     "data": {
      "text/html": [
       "<div>\n",
       "<style scoped>\n",
       "    .dataframe tbody tr th:only-of-type {\n",
       "        vertical-align: middle;\n",
       "    }\n",
       "\n",
       "    .dataframe tbody tr th {\n",
       "        vertical-align: top;\n",
       "    }\n",
       "\n",
       "    .dataframe thead th {\n",
       "        text-align: right;\n",
       "    }\n",
       "</style>\n",
       "<table border=\"1\" class=\"dataframe\">\n",
       "  <thead>\n",
       "    <tr style=\"text-align: right;\">\n",
       "      <th></th>\n",
       "      <th>price</th>\n",
       "      <th>wheelbase</th>\n",
       "      <th>curbweight</th>\n",
       "      <th>enginesize</th>\n",
       "      <th>boreratio</th>\n",
       "      <th>horsepower</th>\n",
       "      <th>fueleconomy</th>\n",
       "      <th>carlength</th>\n",
       "      <th>carwidth</th>\n",
       "      <th>gas</th>\n",
       "      <th>...</th>\n",
       "      <th>ohcv</th>\n",
       "      <th>rotor</th>\n",
       "      <th>five</th>\n",
       "      <th>four</th>\n",
       "      <th>six</th>\n",
       "      <th>three</th>\n",
       "      <th>twelve</th>\n",
       "      <th>two</th>\n",
       "      <th>Medium</th>\n",
       "      <th>Highend</th>\n",
       "    </tr>\n",
       "  </thead>\n",
       "  <tbody>\n",
       "    <tr>\n",
       "      <th>160</th>\n",
       "      <td>7738</td>\n",
       "      <td>95.7</td>\n",
       "      <td>2094</td>\n",
       "      <td>98</td>\n",
       "      <td>3.19</td>\n",
       "      <td>70</td>\n",
       "      <td>42.05</td>\n",
       "      <td>166.3</td>\n",
       "      <td>64.4</td>\n",
       "      <td>1</td>\n",
       "      <td>...</td>\n",
       "      <td>0</td>\n",
       "      <td>0</td>\n",
       "      <td>0</td>\n",
       "      <td>1</td>\n",
       "      <td>0</td>\n",
       "      <td>0</td>\n",
       "      <td>0</td>\n",
       "      <td>0</td>\n",
       "      <td>0</td>\n",
       "      <td>0</td>\n",
       "    </tr>\n",
       "    <tr>\n",
       "      <th>186</th>\n",
       "      <td>8495</td>\n",
       "      <td>97.3</td>\n",
       "      <td>2275</td>\n",
       "      <td>109</td>\n",
       "      <td>3.19</td>\n",
       "      <td>85</td>\n",
       "      <td>30.15</td>\n",
       "      <td>171.7</td>\n",
       "      <td>65.5</td>\n",
       "      <td>1</td>\n",
       "      <td>...</td>\n",
       "      <td>0</td>\n",
       "      <td>0</td>\n",
       "      <td>0</td>\n",
       "      <td>1</td>\n",
       "      <td>0</td>\n",
       "      <td>0</td>\n",
       "      <td>0</td>\n",
       "      <td>0</td>\n",
       "      <td>1</td>\n",
       "      <td>0</td>\n",
       "    </tr>\n",
       "    <tr>\n",
       "      <th>59</th>\n",
       "      <td>8845</td>\n",
       "      <td>98.8</td>\n",
       "      <td>2385</td>\n",
       "      <td>122</td>\n",
       "      <td>3.39</td>\n",
       "      <td>84</td>\n",
       "      <td>28.70</td>\n",
       "      <td>177.8</td>\n",
       "      <td>66.5</td>\n",
       "      <td>1</td>\n",
       "      <td>...</td>\n",
       "      <td>0</td>\n",
       "      <td>0</td>\n",
       "      <td>0</td>\n",
       "      <td>1</td>\n",
       "      <td>0</td>\n",
       "      <td>0</td>\n",
       "      <td>0</td>\n",
       "      <td>0</td>\n",
       "      <td>1</td>\n",
       "      <td>0</td>\n",
       "    </tr>\n",
       "    <tr>\n",
       "      <th>165</th>\n",
       "      <td>9298</td>\n",
       "      <td>94.5</td>\n",
       "      <td>2265</td>\n",
       "      <td>98</td>\n",
       "      <td>3.24</td>\n",
       "      <td>112</td>\n",
       "      <td>27.35</td>\n",
       "      <td>168.7</td>\n",
       "      <td>64.0</td>\n",
       "      <td>1</td>\n",
       "      <td>...</td>\n",
       "      <td>0</td>\n",
       "      <td>0</td>\n",
       "      <td>0</td>\n",
       "      <td>1</td>\n",
       "      <td>0</td>\n",
       "      <td>0</td>\n",
       "      <td>0</td>\n",
       "      <td>0</td>\n",
       "      <td>0</td>\n",
       "      <td>0</td>\n",
       "    </tr>\n",
       "    <tr>\n",
       "      <th>140</th>\n",
       "      <td>7603</td>\n",
       "      <td>93.3</td>\n",
       "      <td>2240</td>\n",
       "      <td>108</td>\n",
       "      <td>3.62</td>\n",
       "      <td>73</td>\n",
       "      <td>28.25</td>\n",
       "      <td>157.3</td>\n",
       "      <td>63.8</td>\n",
       "      <td>1</td>\n",
       "      <td>...</td>\n",
       "      <td>0</td>\n",
       "      <td>0</td>\n",
       "      <td>0</td>\n",
       "      <td>1</td>\n",
       "      <td>0</td>\n",
       "      <td>0</td>\n",
       "      <td>0</td>\n",
       "      <td>0</td>\n",
       "      <td>0</td>\n",
       "      <td>0</td>\n",
       "    </tr>\n",
       "    <tr>\n",
       "      <th>...</th>\n",
       "      <td>...</td>\n",
       "      <td>...</td>\n",
       "      <td>...</td>\n",
       "      <td>...</td>\n",
       "      <td>...</td>\n",
       "      <td>...</td>\n",
       "      <td>...</td>\n",
       "      <td>...</td>\n",
       "      <td>...</td>\n",
       "      <td>...</td>\n",
       "      <td>...</td>\n",
       "      <td>...</td>\n",
       "      <td>...</td>\n",
       "      <td>...</td>\n",
       "      <td>...</td>\n",
       "      <td>...</td>\n",
       "      <td>...</td>\n",
       "      <td>...</td>\n",
       "      <td>...</td>\n",
       "      <td>...</td>\n",
       "      <td>...</td>\n",
       "    </tr>\n",
       "    <tr>\n",
       "      <th>28</th>\n",
       "      <td>8921</td>\n",
       "      <td>103.3</td>\n",
       "      <td>2535</td>\n",
       "      <td>122</td>\n",
       "      <td>3.34</td>\n",
       "      <td>88</td>\n",
       "      <td>26.70</td>\n",
       "      <td>174.6</td>\n",
       "      <td>64.6</td>\n",
       "      <td>1</td>\n",
       "      <td>...</td>\n",
       "      <td>0</td>\n",
       "      <td>0</td>\n",
       "      <td>0</td>\n",
       "      <td>1</td>\n",
       "      <td>0</td>\n",
       "      <td>0</td>\n",
       "      <td>0</td>\n",
       "      <td>0</td>\n",
       "      <td>0</td>\n",
       "      <td>0</td>\n",
       "    </tr>\n",
       "    <tr>\n",
       "      <th>29</th>\n",
       "      <td>12964</td>\n",
       "      <td>95.9</td>\n",
       "      <td>2811</td>\n",
       "      <td>156</td>\n",
       "      <td>3.60</td>\n",
       "      <td>145</td>\n",
       "      <td>21.25</td>\n",
       "      <td>173.2</td>\n",
       "      <td>66.3</td>\n",
       "      <td>1</td>\n",
       "      <td>...</td>\n",
       "      <td>0</td>\n",
       "      <td>0</td>\n",
       "      <td>0</td>\n",
       "      <td>1</td>\n",
       "      <td>0</td>\n",
       "      <td>0</td>\n",
       "      <td>0</td>\n",
       "      <td>0</td>\n",
       "      <td>0</td>\n",
       "      <td>0</td>\n",
       "    </tr>\n",
       "    <tr>\n",
       "      <th>182</th>\n",
       "      <td>7775</td>\n",
       "      <td>97.3</td>\n",
       "      <td>2261</td>\n",
       "      <td>97</td>\n",
       "      <td>3.01</td>\n",
       "      <td>52</td>\n",
       "      <td>41.05</td>\n",
       "      <td>171.7</td>\n",
       "      <td>65.5</td>\n",
       "      <td>0</td>\n",
       "      <td>...</td>\n",
       "      <td>0</td>\n",
       "      <td>0</td>\n",
       "      <td>0</td>\n",
       "      <td>1</td>\n",
       "      <td>0</td>\n",
       "      <td>0</td>\n",
       "      <td>0</td>\n",
       "      <td>0</td>\n",
       "      <td>1</td>\n",
       "      <td>0</td>\n",
       "    </tr>\n",
       "    <tr>\n",
       "      <th>40</th>\n",
       "      <td>10295</td>\n",
       "      <td>96.5</td>\n",
       "      <td>2372</td>\n",
       "      <td>110</td>\n",
       "      <td>3.15</td>\n",
       "      <td>86</td>\n",
       "      <td>29.70</td>\n",
       "      <td>175.4</td>\n",
       "      <td>62.5</td>\n",
       "      <td>1</td>\n",
       "      <td>...</td>\n",
       "      <td>0</td>\n",
       "      <td>0</td>\n",
       "      <td>0</td>\n",
       "      <td>1</td>\n",
       "      <td>0</td>\n",
       "      <td>0</td>\n",
       "      <td>0</td>\n",
       "      <td>0</td>\n",
       "      <td>0</td>\n",
       "      <td>0</td>\n",
       "    </tr>\n",
       "    <tr>\n",
       "      <th>128</th>\n",
       "      <td>37028</td>\n",
       "      <td>89.5</td>\n",
       "      <td>2800</td>\n",
       "      <td>194</td>\n",
       "      <td>3.74</td>\n",
       "      <td>207</td>\n",
       "      <td>20.60</td>\n",
       "      <td>168.9</td>\n",
       "      <td>65.0</td>\n",
       "      <td>1</td>\n",
       "      <td>...</td>\n",
       "      <td>0</td>\n",
       "      <td>0</td>\n",
       "      <td>0</td>\n",
       "      <td>0</td>\n",
       "      <td>1</td>\n",
       "      <td>0</td>\n",
       "      <td>0</td>\n",
       "      <td>0</td>\n",
       "      <td>0</td>\n",
       "      <td>1</td>\n",
       "    </tr>\n",
       "  </tbody>\n",
       "</table>\n",
       "<p>62 rows × 31 columns</p>\n",
       "</div>"
      ],
      "text/plain": [
       "     price  wheelbase  curbweight  enginesize  boreratio  horsepower  \\\n",
       "160   7738       95.7        2094          98       3.19          70   \n",
       "186   8495       97.3        2275         109       3.19          85   \n",
       "59    8845       98.8        2385         122       3.39          84   \n",
       "165   9298       94.5        2265          98       3.24         112   \n",
       "140   7603       93.3        2240         108       3.62          73   \n",
       "..     ...        ...         ...         ...        ...         ...   \n",
       "28    8921      103.3        2535         122       3.34          88   \n",
       "29   12964       95.9        2811         156       3.60         145   \n",
       "182   7775       97.3        2261          97       3.01          52   \n",
       "40   10295       96.5        2372         110       3.15          86   \n",
       "128  37028       89.5        2800         194       3.74         207   \n",
       "\n",
       "     fueleconomy  carlength  carwidth  gas  ...  ohcv  rotor  five  four  six  \\\n",
       "160        42.05      166.3      64.4    1  ...     0      0     0     1    0   \n",
       "186        30.15      171.7      65.5    1  ...     0      0     0     1    0   \n",
       "59         28.70      177.8      66.5    1  ...     0      0     0     1    0   \n",
       "165        27.35      168.7      64.0    1  ...     0      0     0     1    0   \n",
       "140        28.25      157.3      63.8    1  ...     0      0     0     1    0   \n",
       "..           ...        ...       ...  ...  ...   ...    ...   ...   ...  ...   \n",
       "28         26.70      174.6      64.6    1  ...     0      0     0     1    0   \n",
       "29         21.25      173.2      66.3    1  ...     0      0     0     1    0   \n",
       "182        41.05      171.7      65.5    0  ...     0      0     0     1    0   \n",
       "40         29.70      175.4      62.5    1  ...     0      0     0     1    0   \n",
       "128        20.60      168.9      65.0    1  ...     0      0     0     0    1   \n",
       "\n",
       "     three  twelve  two  Medium  Highend  \n",
       "160      0       0    0       0        0  \n",
       "186      0       0    0       1        0  \n",
       "59       0       0    0       1        0  \n",
       "165      0       0    0       0        0  \n",
       "140      0       0    0       0        0  \n",
       "..     ...     ...  ...     ...      ...  \n",
       "28       0       0    0       0        0  \n",
       "29       0       0    0       0        0  \n",
       "182      0       0    0       1        0  \n",
       "40       0       0    0       0        0  \n",
       "128      0       0    0       0        1  \n",
       "\n",
       "[62 rows x 31 columns]"
      ]
     },
     "execution_count": 106,
     "metadata": {},
     "output_type": "execute_result"
    }
   ],
   "source": [
    "df_test"
   ]
  },
  {
   "cell_type": "code",
   "execution_count": 107,
   "metadata": {},
   "outputs": [],
   "source": [
    "#Dividing data into X and y variables\n",
    "y_train = df_train.pop('price')\n",
    "X_train = df_train\n"
   ]
  },
  {
   "cell_type": "markdown",
   "metadata": {},
   "source": [
    "### Step 8: Build the base model"
   ]
  },
  {
   "cell_type": "code",
   "execution_count": 108,
   "metadata": {},
   "outputs": [],
   "source": [
    "#RFE\n",
    "from sklearn.feature_selection import RFE\n",
    "from sklearn.linear_model import LinearRegression\n",
    "import statsmodels.api as sm \n",
    "from statsmodels.stats.outliers_influence import variance_inflation_factor"
   ]
  },
  {
   "cell_type": "code",
   "execution_count": 110,
   "metadata": {},
   "outputs": [],
   "source": [
    "from sklearn.metrics import r2_score"
   ]
  },
  {
   "cell_type": "code",
   "execution_count": 112,
   "metadata": {},
   "outputs": [],
   "source": [
    "lm = LinearRegression()\n",
    "lm.fit(X_train,y_train)\n",
    "rfe = RFE(estimator = lm, n_features_to_select = 10)\n",
    "rfe = rfe.fit(X_train, y_train)"
   ]
  },
  {
   "cell_type": "code",
   "execution_count": 113,
   "metadata": {},
   "outputs": [
    {
     "data": {
      "text/plain": [
       "[('wheelbase', False, 3),\n",
       " ('curbweight', True, 1),\n",
       " ('enginesize', False, 13),\n",
       " ('boreratio', False, 10),\n",
       " ('horsepower', True, 1),\n",
       " ('fueleconomy', True, 1),\n",
       " ('carlength', False, 11),\n",
       " ('carwidth', True, 1),\n",
       " ('gas', False, 17),\n",
       " ('turbo', False, 18),\n",
       " ('hardtop', False, 2),\n",
       " ('hatchback', True, 1),\n",
       " ('sedan', True, 1),\n",
       " ('wagon', True, 1),\n",
       " ('fwd', False, 16),\n",
       " ('rwd', False, 15),\n",
       " ('dohcv', True, 1),\n",
       " ('l', False, 19),\n",
       " ('ohc', False, 7),\n",
       " ('ohcf', False, 8),\n",
       " ('ohcv', False, 9),\n",
       " ('rotor', False, 21),\n",
       " ('five', False, 6),\n",
       " ('four', False, 4),\n",
       " ('six', False, 5),\n",
       " ('three', False, 14),\n",
       " ('twelve', True, 1),\n",
       " ('two', False, 20),\n",
       " ('Medium', False, 12),\n",
       " ('Highend', True, 1)]"
      ]
     },
     "execution_count": 113,
     "metadata": {},
     "output_type": "execute_result"
    }
   ],
   "source": [
    "list(zip(X_train.columns,rfe.support_,rfe.ranking_))"
   ]
  },
  {
   "cell_type": "code",
   "execution_count": 114,
   "metadata": {
    "scrolled": true
   },
   "outputs": [
    {
     "data": {
      "text/plain": [
       "Index(['curbweight', 'horsepower', 'fueleconomy', 'carwidth', 'hatchback',\n",
       "       'sedan', 'wagon', 'dohcv', 'twelve', 'Highend'],\n",
       "      dtype='object')"
      ]
     },
     "execution_count": 114,
     "metadata": {},
     "output_type": "execute_result"
    }
   ],
   "source": [
    "X_train.columns[rfe.support_]"
   ]
  },
  {
   "cell_type": "markdown",
   "metadata": {},
   "source": [
    "#### Building model using statsmodel, for the detailed statistics"
   ]
  },
  {
   "cell_type": "code",
   "execution_count": 115,
   "metadata": {},
   "outputs": [
    {
     "data": {
      "text/html": [
       "<div>\n",
       "<style scoped>\n",
       "    .dataframe tbody tr th:only-of-type {\n",
       "        vertical-align: middle;\n",
       "    }\n",
       "\n",
       "    .dataframe tbody tr th {\n",
       "        vertical-align: top;\n",
       "    }\n",
       "\n",
       "    .dataframe thead th {\n",
       "        text-align: right;\n",
       "    }\n",
       "</style>\n",
       "<table border=\"1\" class=\"dataframe\">\n",
       "  <thead>\n",
       "    <tr style=\"text-align: right;\">\n",
       "      <th></th>\n",
       "      <th>curbweight</th>\n",
       "      <th>horsepower</th>\n",
       "      <th>fueleconomy</th>\n",
       "      <th>carwidth</th>\n",
       "      <th>hatchback</th>\n",
       "      <th>sedan</th>\n",
       "      <th>wagon</th>\n",
       "      <th>dohcv</th>\n",
       "      <th>twelve</th>\n",
       "      <th>Highend</th>\n",
       "    </tr>\n",
       "  </thead>\n",
       "  <tbody>\n",
       "    <tr>\n",
       "      <th>122</th>\n",
       "      <td>0.272692</td>\n",
       "      <td>0.083333</td>\n",
       "      <td>0.530864</td>\n",
       "      <td>0.291667</td>\n",
       "      <td>0</td>\n",
       "      <td>1</td>\n",
       "      <td>0</td>\n",
       "      <td>0</td>\n",
       "      <td>0</td>\n",
       "      <td>0</td>\n",
       "    </tr>\n",
       "    <tr>\n",
       "      <th>125</th>\n",
       "      <td>0.500388</td>\n",
       "      <td>0.395833</td>\n",
       "      <td>0.213992</td>\n",
       "      <td>0.666667</td>\n",
       "      <td>1</td>\n",
       "      <td>0</td>\n",
       "      <td>0</td>\n",
       "      <td>0</td>\n",
       "      <td>0</td>\n",
       "      <td>1</td>\n",
       "    </tr>\n",
       "    <tr>\n",
       "      <th>166</th>\n",
       "      <td>0.314973</td>\n",
       "      <td>0.266667</td>\n",
       "      <td>0.344307</td>\n",
       "      <td>0.308333</td>\n",
       "      <td>1</td>\n",
       "      <td>0</td>\n",
       "      <td>0</td>\n",
       "      <td>0</td>\n",
       "      <td>0</td>\n",
       "      <td>0</td>\n",
       "    </tr>\n",
       "    <tr>\n",
       "      <th>1</th>\n",
       "      <td>0.411171</td>\n",
       "      <td>0.262500</td>\n",
       "      <td>0.244170</td>\n",
       "      <td>0.316667</td>\n",
       "      <td>0</td>\n",
       "      <td>0</td>\n",
       "      <td>0</td>\n",
       "      <td>0</td>\n",
       "      <td>0</td>\n",
       "      <td>0</td>\n",
       "    </tr>\n",
       "    <tr>\n",
       "      <th>199</th>\n",
       "      <td>0.647401</td>\n",
       "      <td>0.475000</td>\n",
       "      <td>0.122085</td>\n",
       "      <td>0.575000</td>\n",
       "      <td>0</td>\n",
       "      <td>0</td>\n",
       "      <td>1</td>\n",
       "      <td>0</td>\n",
       "      <td>0</td>\n",
       "      <td>0</td>\n",
       "    </tr>\n",
       "  </tbody>\n",
       "</table>\n",
       "</div>"
      ],
      "text/plain": [
       "     curbweight  horsepower  fueleconomy  carwidth  hatchback  sedan  wagon  \\\n",
       "122    0.272692    0.083333     0.530864  0.291667          0      1      0   \n",
       "125    0.500388    0.395833     0.213992  0.666667          1      0      0   \n",
       "166    0.314973    0.266667     0.344307  0.308333          1      0      0   \n",
       "1      0.411171    0.262500     0.244170  0.316667          0      0      0   \n",
       "199    0.647401    0.475000     0.122085  0.575000          0      0      1   \n",
       "\n",
       "     dohcv  twelve  Highend  \n",
       "122      0       0        0  \n",
       "125      0       0        1  \n",
       "166      0       0        0  \n",
       "1        0       0        0  \n",
       "199      0       0        0  "
      ]
     },
     "execution_count": 115,
     "metadata": {},
     "output_type": "execute_result"
    }
   ],
   "source": [
    "X_train_rfe = X_train[X_train.columns[rfe.support_]]\n",
    "X_train_rfe.head()"
   ]
  },
  {
   "cell_type": "markdown",
   "metadata": {},
   "source": [
    "## Step 9: Understand how the model is performing, Perform feature engineering again if\n",
    "## needed. Do feature selection. Try with various models like parametric and\n",
    "## nonparametric models. Once you choose the final model, rebuild the model with the\n",
    "## best parameters."
   ]
  },
  {
   "cell_type": "code",
   "execution_count": 116,
   "metadata": {},
   "outputs": [],
   "source": [
    "def build_model(X,y):\n",
    "    X  = sm.add_constant(X) #Adding the constant\n",
    "    lm = sm.OLS(y,X).fit()b # fitting the model\n",
    "    print(lm.summary()) # model summary\n",
    "    return X\n",
    "    \n",
    "def checkVIF(X):\n",
    "    vif = pd.DataFrame()\n",
    "    vif['Features'] = X.columns\n",
    "    vif['VIF'] = [variance_inflation_factor(X.values, i) for i in range(X.shape[1])]\n",
    "    vif['VIF'] = round(vif['VIF'], 2)\n",
    "    vif = vif.sort_values(by = \"VIF\", ascending = False)\n",
    "    return(vif)"
   ]
  },
  {
   "cell_type": "markdown",
   "metadata": {},
   "source": [
    "#### MODEL 1"
   ]
  },
  {
   "cell_type": "code",
   "execution_count": 87,
   "metadata": {},
   "outputs": [
    {
     "name": "stdout",
     "output_type": "stream",
     "text": [
      "                            OLS Regression Results                            \n",
      "==============================================================================\n",
      "Dep. Variable:                  price   R-squared:                       0.929\n",
      "Model:                            OLS   Adj. R-squared:                  0.923\n",
      "Method:                 Least Squares   F-statistic:                     172.1\n",
      "Date:                Sat, 04 Mar 2023   Prob (F-statistic):           1.29e-70\n",
      "Time:                        06:51:01   Log-Likelihood:                 205.85\n",
      "No. Observations:                 143   AIC:                            -389.7\n",
      "Df Residuals:                     132   BIC:                            -357.1\n",
      "Df Model:                          10                                         \n",
      "Covariance Type:            nonrobust                                         \n",
      "===============================================================================\n",
      "                  coef    std err          t      P>|t|      [0.025      0.975]\n",
      "-------------------------------------------------------------------------------\n",
      "const          -0.0947      0.042     -2.243      0.027      -0.178      -0.011\n",
      "curbweight      0.2657      0.069      3.870      0.000       0.130       0.402\n",
      "horsepower      0.4499      0.074      6.099      0.000       0.304       0.596\n",
      "fueleconomy     0.0933      0.052      1.792      0.075      -0.010       0.196\n",
      "carwidth        0.2609      0.062      4.216      0.000       0.138       0.383\n",
      "hatchback      -0.0929      0.025     -3.707      0.000      -0.143      -0.043\n",
      "sedan          -0.0704      0.025     -2.833      0.005      -0.120      -0.021\n",
      "wagon          -0.0997      0.028     -3.565      0.001      -0.155      -0.044\n",
      "dohcv          -0.2676      0.079     -3.391      0.001      -0.424      -0.112\n",
      "twelve         -0.1192      0.067     -1.769      0.079      -0.253       0.014\n",
      "Highend         0.2586      0.020     12.929      0.000       0.219       0.298\n",
      "==============================================================================\n",
      "Omnibus:                       43.093   Durbin-Watson:                   1.867\n",
      "Prob(Omnibus):                  0.000   Jarque-Bera (JB):              130.648\n",
      "Skew:                           1.128   Prob(JB):                     4.27e-29\n",
      "Kurtosis:                       7.103   Cond. No.                         32.0\n",
      "==============================================================================\n",
      "\n",
      "Notes:\n",
      "[1] Standard Errors assume that the covariance matrix of the errors is correctly specified.\n"
     ]
    }
   ],
   "source": [
    "X_train_new = build_model(X_train_rfe,y_train)"
   ]
  },
  {
   "cell_type": "markdown",
   "metadata": {},
   "source": [
    "p-vale of `twelve` seems to be higher than the significance value of 0.05, hence dropping it as it is insignificant in presence of other variables."
   ]
  },
  {
   "cell_type": "code",
   "execution_count": 88,
   "metadata": {},
   "outputs": [],
   "source": [
    "X_train_new = X_train_rfe.drop([\"twelve\"], axis = 1)"
   ]
  },
  {
   "cell_type": "markdown",
   "metadata": {},
   "source": [
    "#### MODEL 2"
   ]
  },
  {
   "cell_type": "code",
   "execution_count": 89,
   "metadata": {},
   "outputs": [
    {
     "name": "stdout",
     "output_type": "stream",
     "text": [
      "                            OLS Regression Results                            \n",
      "==============================================================================\n",
      "Dep. Variable:                  price   R-squared:                       0.927\n",
      "Model:                            OLS   Adj. R-squared:                  0.922\n",
      "Method:                 Least Squares   F-statistic:                     187.9\n",
      "Date:                Sat, 04 Mar 2023   Prob (F-statistic):           4.25e-71\n",
      "Time:                        06:51:01   Log-Likelihood:                 204.17\n",
      "No. Observations:                 143   AIC:                            -388.3\n",
      "Df Residuals:                     133   BIC:                            -358.7\n",
      "Df Model:                           9                                         \n",
      "Covariance Type:            nonrobust                                         \n",
      "===============================================================================\n",
      "                  coef    std err          t      P>|t|      [0.025      0.975]\n",
      "-------------------------------------------------------------------------------\n",
      "const          -0.0764      0.041     -1.851      0.066      -0.158       0.005\n",
      "curbweight      0.2756      0.069      3.995      0.000       0.139       0.412\n",
      "horsepower      0.3997      0.069      5.824      0.000       0.264       0.535\n",
      "fueleconomy     0.0736      0.051      1.435      0.154      -0.028       0.175\n",
      "carwidth        0.2580      0.062      4.137      0.000       0.135       0.381\n",
      "hatchback      -0.0951      0.025     -3.766      0.000      -0.145      -0.045\n",
      "sedan          -0.0744      0.025     -2.983      0.003      -0.124      -0.025\n",
      "wagon          -0.1050      0.028     -3.744      0.000      -0.160      -0.050\n",
      "dohcv          -0.2319      0.077     -3.015      0.003      -0.384      -0.080\n",
      "Highend         0.2565      0.020     12.743      0.000       0.217       0.296\n",
      "==============================================================================\n",
      "Omnibus:                       48.027   Durbin-Watson:                   1.880\n",
      "Prob(Omnibus):                  0.000   Jarque-Bera (JB):              159.802\n",
      "Skew:                           1.231   Prob(JB):                     1.99e-35\n",
      "Kurtosis:                       7.556   Cond. No.                         29.6\n",
      "==============================================================================\n",
      "\n",
      "Notes:\n",
      "[1] Standard Errors assume that the covariance matrix of the errors is correctly specified.\n"
     ]
    }
   ],
   "source": [
    "X_train_new = build_model(X_train_new,y_train)"
   ]
  },
  {
   "cell_type": "code",
   "execution_count": 90,
   "metadata": {},
   "outputs": [],
   "source": [
    "X_train_new = X_train_new.drop([\"fueleconomy\"], axis = 1)"
   ]
  },
  {
   "cell_type": "markdown",
   "metadata": {},
   "source": [
    "#### MODEL 3"
   ]
  },
  {
   "cell_type": "code",
   "execution_count": 91,
   "metadata": {},
   "outputs": [
    {
     "name": "stdout",
     "output_type": "stream",
     "text": [
      "                            OLS Regression Results                            \n",
      "==============================================================================\n",
      "Dep. Variable:                  price   R-squared:                       0.926\n",
      "Model:                            OLS   Adj. R-squared:                  0.922\n",
      "Method:                 Least Squares   F-statistic:                     209.5\n",
      "Date:                Sat, 04 Mar 2023   Prob (F-statistic):           7.85e-72\n",
      "Time:                        06:51:01   Log-Likelihood:                 203.07\n",
      "No. Observations:                 143   AIC:                            -388.1\n",
      "Df Residuals:                     134   BIC:                            -361.5\n",
      "Df Model:                           8                                         \n",
      "Covariance Type:            nonrobust                                         \n",
      "==============================================================================\n",
      "                 coef    std err          t      P>|t|      [0.025      0.975]\n",
      "------------------------------------------------------------------------------\n",
      "const         -0.0305      0.026     -1.165      0.246      -0.082       0.021\n",
      "curbweight     0.2593      0.068      3.796      0.000       0.124       0.394\n",
      "horsepower     0.3469      0.058      5.964      0.000       0.232       0.462\n",
      "carwidth       0.2488      0.062      3.995      0.000       0.126       0.372\n",
      "hatchback     -0.0922      0.025     -3.650      0.000      -0.142      -0.042\n",
      "sedan         -0.0711      0.025     -2.850      0.005      -0.120      -0.022\n",
      "wagon         -0.1047      0.028     -3.721      0.000      -0.160      -0.049\n",
      "dohcv         -0.1968      0.073     -2.689      0.008      -0.342      -0.052\n",
      "Highend        0.2610      0.020     13.083      0.000       0.222       0.301\n",
      "==============================================================================\n",
      "Omnibus:                       48.637   Durbin-Watson:                   1.909\n",
      "Prob(Omnibus):                  0.000   Jarque-Bera (JB):              161.444\n",
      "Skew:                           1.250   Prob(JB):                     8.77e-36\n",
      "Kurtosis:                       7.566   Cond. No.                         27.2\n",
      "==============================================================================\n",
      "\n",
      "Notes:\n",
      "[1] Standard Errors assume that the covariance matrix of the errors is correctly specified.\n"
     ]
    }
   ],
   "source": [
    "X_train_new = build_model(X_train_new,y_train)"
   ]
  },
  {
   "cell_type": "code",
   "execution_count": 92,
   "metadata": {},
   "outputs": [
    {
     "data": {
      "text/html": [
       "<div>\n",
       "<style scoped>\n",
       "    .dataframe tbody tr th:only-of-type {\n",
       "        vertical-align: middle;\n",
       "    }\n",
       "\n",
       "    .dataframe tbody tr th {\n",
       "        vertical-align: top;\n",
       "    }\n",
       "\n",
       "    .dataframe thead th {\n",
       "        text-align: right;\n",
       "    }\n",
       "</style>\n",
       "<table border=\"1\" class=\"dataframe\">\n",
       "  <thead>\n",
       "    <tr style=\"text-align: right;\">\n",
       "      <th></th>\n",
       "      <th>Features</th>\n",
       "      <th>VIF</th>\n",
       "    </tr>\n",
       "  </thead>\n",
       "  <tbody>\n",
       "    <tr>\n",
       "      <th>0</th>\n",
       "      <td>const</td>\n",
       "      <td>26.90</td>\n",
       "    </tr>\n",
       "    <tr>\n",
       "      <th>1</th>\n",
       "      <td>curbweight</td>\n",
       "      <td>8.10</td>\n",
       "    </tr>\n",
       "    <tr>\n",
       "      <th>5</th>\n",
       "      <td>sedan</td>\n",
       "      <td>6.07</td>\n",
       "    </tr>\n",
       "    <tr>\n",
       "      <th>4</th>\n",
       "      <td>hatchback</td>\n",
       "      <td>5.63</td>\n",
       "    </tr>\n",
       "    <tr>\n",
       "      <th>3</th>\n",
       "      <td>carwidth</td>\n",
       "      <td>5.14</td>\n",
       "    </tr>\n",
       "    <tr>\n",
       "      <th>2</th>\n",
       "      <td>horsepower</td>\n",
       "      <td>3.61</td>\n",
       "    </tr>\n",
       "    <tr>\n",
       "      <th>6</th>\n",
       "      <td>wagon</td>\n",
       "      <td>3.58</td>\n",
       "    </tr>\n",
       "    <tr>\n",
       "      <th>8</th>\n",
       "      <td>Highend</td>\n",
       "      <td>1.63</td>\n",
       "    </tr>\n",
       "    <tr>\n",
       "      <th>7</th>\n",
       "      <td>dohcv</td>\n",
       "      <td>1.46</td>\n",
       "    </tr>\n",
       "  </tbody>\n",
       "</table>\n",
       "</div>"
      ],
      "text/plain": [
       "     Features    VIF\n",
       "0       const  26.90\n",
       "1  curbweight   8.10\n",
       "5       sedan   6.07\n",
       "4   hatchback   5.63\n",
       "3    carwidth   5.14\n",
       "2  horsepower   3.61\n",
       "6       wagon   3.58\n",
       "8     Highend   1.63\n",
       "7       dohcv   1.46"
      ]
     },
     "execution_count": 92,
     "metadata": {},
     "output_type": "execute_result"
    }
   ],
   "source": [
    "#Calculating the Variance Inflation Factor\n",
    "checkVIF(X_train_new)"
   ]
  },
  {
   "cell_type": "markdown",
   "metadata": {},
   "source": [
    "dropping `curbweight` because of high VIF value. (shows that curbweight has high multicollinearity.)"
   ]
  },
  {
   "cell_type": "code",
   "execution_count": 93,
   "metadata": {},
   "outputs": [],
   "source": [
    "X_train_new = X_train_new.drop([\"curbweight\"], axis = 1)"
   ]
  },
  {
   "cell_type": "markdown",
   "metadata": {},
   "source": [
    "#### MODEL 4\n"
   ]
  },
  {
   "cell_type": "code",
   "execution_count": 94,
   "metadata": {},
   "outputs": [
    {
     "name": "stdout",
     "output_type": "stream",
     "text": [
      "                            OLS Regression Results                            \n",
      "==============================================================================\n",
      "Dep. Variable:                  price   R-squared:                       0.918\n",
      "Model:                            OLS   Adj. R-squared:                  0.914\n",
      "Method:                 Least Squares   F-statistic:                     215.9\n",
      "Date:                Sat, 04 Mar 2023   Prob (F-statistic):           4.70e-70\n",
      "Time:                        06:51:02   Log-Likelihood:                 195.77\n",
      "No. Observations:                 143   AIC:                            -375.5\n",
      "Df Residuals:                     135   BIC:                            -351.8\n",
      "Df Model:                           7                                         \n",
      "Covariance Type:            nonrobust                                         \n",
      "==============================================================================\n",
      "                 coef    std err          t      P>|t|      [0.025      0.975]\n",
      "------------------------------------------------------------------------------\n",
      "const         -0.0319      0.027     -1.161      0.248      -0.086       0.022\n",
      "horsepower     0.4690      0.051      9.228      0.000       0.368       0.569\n",
      "carwidth       0.4269      0.043      9.944      0.000       0.342       0.512\n",
      "hatchback     -0.1044      0.026     -3.976      0.000      -0.156      -0.052\n",
      "sedan         -0.0756      0.026     -2.896      0.004      -0.127      -0.024\n",
      "wagon         -0.0865      0.029     -2.974      0.003      -0.144      -0.029\n",
      "dohcv         -0.3106      0.070     -4.435      0.000      -0.449      -0.172\n",
      "Highend        0.2772      0.020     13.559      0.000       0.237       0.318\n",
      "==============================================================================\n",
      "Omnibus:                       43.937   Durbin-Watson:                   2.006\n",
      "Prob(Omnibus):                  0.000   Jarque-Bera (JB):              127.746\n",
      "Skew:                           1.171   Prob(JB):                     1.82e-28\n",
      "Kurtosis:                       6.995   Cond. No.                         18.0\n",
      "==============================================================================\n",
      "\n",
      "Notes:\n",
      "[1] Standard Errors assume that the covariance matrix of the errors is correctly specified.\n"
     ]
    }
   ],
   "source": [
    "X_train_new = build_model(X_train_new,y_train)"
   ]
  },
  {
   "cell_type": "code",
   "execution_count": 95,
   "metadata": {},
   "outputs": [
    {
     "data": {
      "text/html": [
       "<div>\n",
       "<style scoped>\n",
       "    .dataframe tbody tr th:only-of-type {\n",
       "        vertical-align: middle;\n",
       "    }\n",
       "\n",
       "    .dataframe tbody tr th {\n",
       "        vertical-align: top;\n",
       "    }\n",
       "\n",
       "    .dataframe thead th {\n",
       "        text-align: right;\n",
       "    }\n",
       "</style>\n",
       "<table border=\"1\" class=\"dataframe\">\n",
       "  <thead>\n",
       "    <tr style=\"text-align: right;\">\n",
       "      <th></th>\n",
       "      <th>Features</th>\n",
       "      <th>VIF</th>\n",
       "    </tr>\n",
       "  </thead>\n",
       "  <tbody>\n",
       "    <tr>\n",
       "      <th>0</th>\n",
       "      <td>const</td>\n",
       "      <td>26.89</td>\n",
       "    </tr>\n",
       "    <tr>\n",
       "      <th>4</th>\n",
       "      <td>sedan</td>\n",
       "      <td>6.06</td>\n",
       "    </tr>\n",
       "    <tr>\n",
       "      <th>3</th>\n",
       "      <td>hatchback</td>\n",
       "      <td>5.54</td>\n",
       "    </tr>\n",
       "    <tr>\n",
       "      <th>5</th>\n",
       "      <td>wagon</td>\n",
       "      <td>3.47</td>\n",
       "    </tr>\n",
       "    <tr>\n",
       "      <th>1</th>\n",
       "      <td>horsepower</td>\n",
       "      <td>2.50</td>\n",
       "    </tr>\n",
       "    <tr>\n",
       "      <th>2</th>\n",
       "      <td>carwidth</td>\n",
       "      <td>2.22</td>\n",
       "    </tr>\n",
       "    <tr>\n",
       "      <th>7</th>\n",
       "      <td>Highend</td>\n",
       "      <td>1.56</td>\n",
       "    </tr>\n",
       "    <tr>\n",
       "      <th>6</th>\n",
       "      <td>dohcv</td>\n",
       "      <td>1.21</td>\n",
       "    </tr>\n",
       "  </tbody>\n",
       "</table>\n",
       "</div>"
      ],
      "text/plain": [
       "     Features    VIF\n",
       "0       const  26.89\n",
       "4       sedan   6.06\n",
       "3   hatchback   5.54\n",
       "5       wagon   3.47\n",
       "1  horsepower   2.50\n",
       "2    carwidth   2.22\n",
       "7     Highend   1.56\n",
       "6       dohcv   1.21"
      ]
     },
     "execution_count": 95,
     "metadata": {},
     "output_type": "execute_result"
    }
   ],
   "source": [
    "checkVIF(X_train_new)"
   ]
  },
  {
   "cell_type": "markdown",
   "metadata": {},
   "source": [
    "dropping `sedan` because of high VIF value."
   ]
  },
  {
   "cell_type": "code",
   "execution_count": 96,
   "metadata": {},
   "outputs": [],
   "source": [
    "X_train_new = X_train_new.drop([\"sedan\"], axis = 1)"
   ]
  },
  {
   "cell_type": "markdown",
   "metadata": {},
   "source": [
    "#### MODEL 5"
   ]
  },
  {
   "cell_type": "code",
   "execution_count": 97,
   "metadata": {},
   "outputs": [
    {
     "name": "stdout",
     "output_type": "stream",
     "text": [
      "                            OLS Regression Results                            \n",
      "==============================================================================\n",
      "Dep. Variable:                  price   R-squared:                       0.913\n",
      "Model:                            OLS   Adj. R-squared:                  0.909\n",
      "Method:                 Least Squares   F-statistic:                     237.6\n",
      "Date:                Sat, 04 Mar 2023   Prob (F-statistic):           1.68e-69\n",
      "Time:                        06:51:02   Log-Likelihood:                 191.46\n",
      "No. Observations:                 143   AIC:                            -368.9\n",
      "Df Residuals:                     136   BIC:                            -348.2\n",
      "Df Model:                           6                                         \n",
      "Covariance Type:            nonrobust                                         \n",
      "==============================================================================\n",
      "                 coef    std err          t      P>|t|      [0.025      0.975]\n",
      "------------------------------------------------------------------------------\n",
      "const         -0.0934      0.018     -5.219      0.000      -0.129      -0.058\n",
      "horsepower     0.5001      0.051      9.805      0.000       0.399       0.601\n",
      "carwidth       0.3963      0.043      9.275      0.000       0.312       0.481\n",
      "hatchback     -0.0373      0.013     -2.938      0.004      -0.062      -0.012\n",
      "wagon         -0.0170      0.017     -1.008      0.315      -0.050       0.016\n",
      "dohcv         -0.3203      0.072     -4.460      0.000      -0.462      -0.178\n",
      "Highend        0.2808      0.021     13.402      0.000       0.239       0.322\n",
      "==============================================================================\n",
      "Omnibus:                       34.143   Durbin-Watson:                   2.024\n",
      "Prob(Omnibus):                  0.000   Jarque-Bera (JB):               72.788\n",
      "Skew:                           1.018   Prob(JB):                     1.56e-16\n",
      "Kurtosis:                       5.841   Cond. No.                         16.4\n",
      "==============================================================================\n",
      "\n",
      "Notes:\n",
      "[1] Standard Errors assume that the covariance matrix of the errors is correctly specified.\n"
     ]
    }
   ],
   "source": [
    "X_train_new = build_model(X_train_new,y_train)"
   ]
  },
  {
   "cell_type": "code",
   "execution_count": 98,
   "metadata": {},
   "outputs": [
    {
     "data": {
      "text/html": [
       "<div>\n",
       "<style scoped>\n",
       "    .dataframe tbody tr th:only-of-type {\n",
       "        vertical-align: middle;\n",
       "    }\n",
       "\n",
       "    .dataframe tbody tr th {\n",
       "        vertical-align: top;\n",
       "    }\n",
       "\n",
       "    .dataframe thead th {\n",
       "        text-align: right;\n",
       "    }\n",
       "</style>\n",
       "<table border=\"1\" class=\"dataframe\">\n",
       "  <thead>\n",
       "    <tr style=\"text-align: right;\">\n",
       "      <th></th>\n",
       "      <th>Features</th>\n",
       "      <th>VIF</th>\n",
       "    </tr>\n",
       "  </thead>\n",
       "  <tbody>\n",
       "    <tr>\n",
       "      <th>0</th>\n",
       "      <td>const</td>\n",
       "      <td>10.82</td>\n",
       "    </tr>\n",
       "    <tr>\n",
       "      <th>1</th>\n",
       "      <td>horsepower</td>\n",
       "      <td>2.39</td>\n",
       "    </tr>\n",
       "    <tr>\n",
       "      <th>2</th>\n",
       "      <td>carwidth</td>\n",
       "      <td>2.09</td>\n",
       "    </tr>\n",
       "    <tr>\n",
       "      <th>6</th>\n",
       "      <td>Highend</td>\n",
       "      <td>1.55</td>\n",
       "    </tr>\n",
       "    <tr>\n",
       "      <th>3</th>\n",
       "      <td>hatchback</td>\n",
       "      <td>1.23</td>\n",
       "    </tr>\n",
       "    <tr>\n",
       "      <th>5</th>\n",
       "      <td>dohcv</td>\n",
       "      <td>1.21</td>\n",
       "    </tr>\n",
       "    <tr>\n",
       "      <th>4</th>\n",
       "      <td>wagon</td>\n",
       "      <td>1.11</td>\n",
       "    </tr>\n",
       "  </tbody>\n",
       "</table>\n",
       "</div>"
      ],
      "text/plain": [
       "     Features    VIF\n",
       "0       const  10.82\n",
       "1  horsepower   2.39\n",
       "2    carwidth   2.09\n",
       "6     Highend   1.55\n",
       "3   hatchback   1.23\n",
       "5       dohcv   1.21\n",
       "4       wagon   1.11"
      ]
     },
     "execution_count": 98,
     "metadata": {},
     "output_type": "execute_result"
    }
   ],
   "source": [
    "checkVIF(X_train_new)"
   ]
  },
  {
   "cell_type": "markdown",
   "metadata": {},
   "source": [
    "dropping `wagon` because of high p-value."
   ]
  },
  {
   "cell_type": "code",
   "execution_count": 99,
   "metadata": {},
   "outputs": [],
   "source": [
    "X_train_new = X_train_new.drop([\"wagon\"], axis = 1)"
   ]
  },
  {
   "cell_type": "markdown",
   "metadata": {},
   "source": [
    "#### MODEL 6"
   ]
  },
  {
   "cell_type": "code",
   "execution_count": 100,
   "metadata": {},
   "outputs": [
    {
     "name": "stdout",
     "output_type": "stream",
     "text": [
      "                            OLS Regression Results                            \n",
      "==============================================================================\n",
      "Dep. Variable:                  price   R-squared:                       0.912\n",
      "Model:                            OLS   Adj. R-squared:                  0.909\n",
      "Method:                 Least Squares   F-statistic:                     284.8\n",
      "Date:                Sat, 04 Mar 2023   Prob (F-statistic):           1.57e-70\n",
      "Time:                        06:51:03   Log-Likelihood:                 190.93\n",
      "No. Observations:                 143   AIC:                            -369.9\n",
      "Df Residuals:                     137   BIC:                            -352.1\n",
      "Df Model:                           5                                         \n",
      "Covariance Type:            nonrobust                                         \n",
      "==============================================================================\n",
      "                 coef    std err          t      P>|t|      [0.025      0.975]\n",
      "------------------------------------------------------------------------------\n",
      "const         -0.0970      0.018     -5.530      0.000      -0.132      -0.062\n",
      "horsepower     0.5013      0.051      9.832      0.000       0.401       0.602\n",
      "carwidth       0.3952      0.043      9.252      0.000       0.311       0.480\n",
      "hatchback     -0.0336      0.012     -2.764      0.006      -0.058      -0.010\n",
      "dohcv         -0.3231      0.072     -4.502      0.000      -0.465      -0.181\n",
      "Highend        0.2833      0.021     13.615      0.000       0.242       0.324\n",
      "==============================================================================\n",
      "Omnibus:                       36.097   Durbin-Watson:                   2.028\n",
      "Prob(Omnibus):                  0.000   Jarque-Bera (JB):               78.717\n",
      "Skew:                           1.067   Prob(JB):                     8.07e-18\n",
      "Kurtosis:                       5.943   Cond. No.                         16.3\n",
      "==============================================================================\n",
      "\n",
      "Notes:\n",
      "[1] Standard Errors assume that the covariance matrix of the errors is correctly specified.\n"
     ]
    }
   ],
   "source": [
    "X_train_new = build_model(X_train_new,y_train)"
   ]
  },
  {
   "cell_type": "code",
   "execution_count": 101,
   "metadata": {},
   "outputs": [
    {
     "data": {
      "text/html": [
       "<div>\n",
       "<style scoped>\n",
       "    .dataframe tbody tr th:only-of-type {\n",
       "        vertical-align: middle;\n",
       "    }\n",
       "\n",
       "    .dataframe tbody tr th {\n",
       "        vertical-align: top;\n",
       "    }\n",
       "\n",
       "    .dataframe thead th {\n",
       "        text-align: right;\n",
       "    }\n",
       "</style>\n",
       "<table border=\"1\" class=\"dataframe\">\n",
       "  <thead>\n",
       "    <tr style=\"text-align: right;\">\n",
       "      <th></th>\n",
       "      <th>Features</th>\n",
       "      <th>VIF</th>\n",
       "    </tr>\n",
       "  </thead>\n",
       "  <tbody>\n",
       "    <tr>\n",
       "      <th>0</th>\n",
       "      <td>const</td>\n",
       "      <td>10.39</td>\n",
       "    </tr>\n",
       "    <tr>\n",
       "      <th>1</th>\n",
       "      <td>horsepower</td>\n",
       "      <td>2.39</td>\n",
       "    </tr>\n",
       "    <tr>\n",
       "      <th>2</th>\n",
       "      <td>carwidth</td>\n",
       "      <td>2.08</td>\n",
       "    </tr>\n",
       "    <tr>\n",
       "      <th>5</th>\n",
       "      <td>Highend</td>\n",
       "      <td>1.53</td>\n",
       "    </tr>\n",
       "    <tr>\n",
       "      <th>4</th>\n",
       "      <td>dohcv</td>\n",
       "      <td>1.21</td>\n",
       "    </tr>\n",
       "    <tr>\n",
       "      <th>3</th>\n",
       "      <td>hatchback</td>\n",
       "      <td>1.13</td>\n",
       "    </tr>\n",
       "  </tbody>\n",
       "</table>\n",
       "</div>"
      ],
      "text/plain": [
       "     Features    VIF\n",
       "0       const  10.39\n",
       "1  horsepower   2.39\n",
       "2    carwidth   2.08\n",
       "5     Highend   1.53\n",
       "4       dohcv   1.21\n",
       "3   hatchback   1.13"
      ]
     },
     "execution_count": 101,
     "metadata": {},
     "output_type": "execute_result"
    }
   ],
   "source": [
    "checkVIF(X_train_new)"
   ]
  },
  {
   "cell_type": "markdown",
   "metadata": {},
   "source": [
    "#### MODEL 7"
   ]
  },
  {
   "cell_type": "code",
   "execution_count": 102,
   "metadata": {
    "scrolled": true
   },
   "outputs": [
    {
     "name": "stdout",
     "output_type": "stream",
     "text": [
      "                            OLS Regression Results                            \n",
      "==============================================================================\n",
      "Dep. Variable:                  price   R-squared:                       0.899\n",
      "Model:                            OLS   Adj. R-squared:                  0.896\n",
      "Method:                 Least Squares   F-statistic:                     308.0\n",
      "Date:                Sat, 04 Mar 2023   Prob (F-statistic):           1.04e-67\n",
      "Time:                        06:51:03   Log-Likelihood:                 181.06\n",
      "No. Observations:                 143   AIC:                            -352.1\n",
      "Df Residuals:                     138   BIC:                            -337.3\n",
      "Df Model:                           4                                         \n",
      "Covariance Type:            nonrobust                                         \n",
      "==============================================================================\n",
      "                 coef    std err          t      P>|t|      [0.025      0.975]\n",
      "------------------------------------------------------------------------------\n",
      "const         -0.0824      0.018     -4.480      0.000      -0.119      -0.046\n",
      "horsepower     0.4402      0.052      8.390      0.000       0.336       0.544\n",
      "carwidth       0.3957      0.046      8.677      0.000       0.306       0.486\n",
      "hatchback     -0.0414      0.013     -3.219      0.002      -0.067      -0.016\n",
      "Highend        0.2794      0.022     12.591      0.000       0.236       0.323\n",
      "==============================================================================\n",
      "Omnibus:                       29.385   Durbin-Watson:                   1.955\n",
      "Prob(Omnibus):                  0.000   Jarque-Bera (JB):               98.010\n",
      "Skew:                           0.692   Prob(JB):                     5.22e-22\n",
      "Kurtosis:                       6.812   Cond. No.                         12.9\n",
      "==============================================================================\n",
      "\n",
      "Notes:\n",
      "[1] Standard Errors assume that the covariance matrix of the errors is correctly specified.\n"
     ]
    },
    {
     "data": {
      "text/html": [
       "<div>\n",
       "<style scoped>\n",
       "    .dataframe tbody tr th:only-of-type {\n",
       "        vertical-align: middle;\n",
       "    }\n",
       "\n",
       "    .dataframe tbody tr th {\n",
       "        vertical-align: top;\n",
       "    }\n",
       "\n",
       "    .dataframe thead th {\n",
       "        text-align: right;\n",
       "    }\n",
       "</style>\n",
       "<table border=\"1\" class=\"dataframe\">\n",
       "  <thead>\n",
       "    <tr style=\"text-align: right;\">\n",
       "      <th></th>\n",
       "      <th>Features</th>\n",
       "      <th>VIF</th>\n",
       "    </tr>\n",
       "  </thead>\n",
       "  <tbody>\n",
       "    <tr>\n",
       "      <th>0</th>\n",
       "      <td>const</td>\n",
       "      <td>10.04</td>\n",
       "    </tr>\n",
       "    <tr>\n",
       "      <th>1</th>\n",
       "      <td>horsepower</td>\n",
       "      <td>2.22</td>\n",
       "    </tr>\n",
       "    <tr>\n",
       "      <th>2</th>\n",
       "      <td>carwidth</td>\n",
       "      <td>2.08</td>\n",
       "    </tr>\n",
       "    <tr>\n",
       "      <th>4</th>\n",
       "      <td>Highend</td>\n",
       "      <td>1.53</td>\n",
       "    </tr>\n",
       "    <tr>\n",
       "      <th>3</th>\n",
       "      <td>hatchback</td>\n",
       "      <td>1.10</td>\n",
       "    </tr>\n",
       "  </tbody>\n",
       "</table>\n",
       "</div>"
      ],
      "text/plain": [
       "     Features    VIF\n",
       "0       const  10.04\n",
       "1  horsepower   2.22\n",
       "2    carwidth   2.08\n",
       "4     Highend   1.53\n",
       "3   hatchback   1.10"
      ]
     },
     "execution_count": 102,
     "metadata": {},
     "output_type": "execute_result"
    }
   ],
   "source": [
    "#Dropping dohcv to see the changes in model statistics\n",
    "X_train_new = X_train_new.drop([\"dohcv\"], axis = 1)\n",
    "X_train_new = build_model(X_train_new,y_train)\n",
    "checkVIF(X_train_new)"
   ]
  },
  {
   "cell_type": "code",
   "execution_count": 103,
   "metadata": {},
   "outputs": [],
   "source": [
    "lm = sm.OLS(y_train,X_train_new).fit()\n",
    "y_train_price = lm.predict(X_train_new)"
   ]
  },
  {
   "cell_type": "code",
   "execution_count": 104,
   "metadata": {},
   "outputs": [
    {
     "data": {
      "text/plain": [
       "Text(0.5, 0, 'Errors')"
      ]
     },
     "execution_count": 104,
     "metadata": {},
     "output_type": "execute_result"
    },
    {
     "data": {
      "image/png": "[encoded data removed]",
      "text/plain": [
       "<Figure size 432x288 with 1 Axes>"
      ]
     },
     "metadata": {
      "needs_background": "light"
     },
     "output_type": "display_data"
    }
   ],
   "source": [
    "# Plot the histogram of the error terms\n",
    "fig = plt.figure()\n",
    "sns.distplot((y_train - y_train_price), bins = 20)\n",
    "fig.suptitle('Error Terms', fontsize = 20)                  # Plot heading \n",
    "plt.xlabel('Errors', fontsize = 18)   "
   ]
  },
  {
   "cell_type": "markdown",
   "metadata": {},
   "source": [
    "Error terms seem to be approximately normally distributed, so the assumption on the linear modeling seems to be fulfilled."
   ]
  },
  {
   "cell_type": "markdown",
   "metadata": {},
   "source": [
    "### scaled model:"
   ]
  },
  {
   "cell_type": "code",
   "execution_count": 105,
   "metadata": {},
   "outputs": [],
   "source": [
    "#Scaling the test set\n",
    "num_vars = ['wheelbase', 'curbweight', 'enginesize', 'boreratio', 'horsepower','fueleconomy','carlength','carwidth','price']\n",
    "df_test[num_vars] = scaler.fit_transform(df_test[num_vars])\n"
   ]
  },
  {
   "cell_type": "code",
   "execution_count": 109,
   "metadata": {},
   "outputs": [],
   "source": [
    "#Dividing into X and y\n",
    "y_test = df_test.pop('price')\n",
    "X_test = df_test"
   ]
  },
  {
   "cell_type": "code",
   "execution_count": 107,
   "metadata": {},
   "outputs": [],
   "source": [
    "# Now let's use our model to make predictions.\n",
    "X_train_new = X_train_new.drop('const',axis=1)\n",
    "# Creating X_test_new dataframe by dropping variables from X_test\n",
    "X_test_new = X_test[X_train_new.columns]\n",
    "\n",
    "# Adding a constant variable \n",
    "X_test_new = sm.add_constant(X_test_new)"
   ]
  },
  {
   "cell_type": "code",
   "execution_count": 108,
   "metadata": {},
   "outputs": [],
   "source": [
    "# Making predictions\n",
    "y_pred = lm.predict(X_test_new)"
   ]
  },
  {
   "cell_type": "markdown",
   "metadata": {},
   "source": [
    "#### Evaluation of test via comparison of y_pred and y_test"
   ]
  },
  {
   "cell_type": "code",
   "execution_count": 109,
   "metadata": {},
   "outputs": [
    {
     "data": {
      "text/plain": [
       "0.8614595209022033"
      ]
     },
     "execution_count": 109,
     "metadata": {},
     "output_type": "execute_result"
    }
   ],
   "source": [
    "from sklearn.metrics import r2_score \n",
    "r2_score(y_test, y_pred)"
   ]
  },
  {
   "cell_type": "code",
   "execution_count": 110,
   "metadata": {},
   "outputs": [
    {
     "data": {
      "text/plain": [
       "Text(0, 0.5, 'y_pred')"
      ]
     },
     "execution_count": 110,
     "metadata": {},
     "output_type": "execute_result"
    },
    {
     "data": {
      "image/png": "[encoded data removed]",
      "text/plain": [
       "<Figure size 432x288 with 1 Axes>"
      ]
     },
     "metadata": {
      "needs_background": "light"
     },
     "output_type": "display_data"
    }
   ],
   "source": [
    "#EVALUATION OF THE MODEL\n",
    "# Plotting y_test and y_pred to understand the spread.\n",
    "fig = plt.figure()\n",
    "plt.scatter(y_test,y_pred)\n",
    "fig.suptitle('y_test vs y_pred', fontsize=20)              # Plot heading \n",
    "plt.xlabel('y_test', fontsize=18)                          # X-label\n",
    "plt.ylabel('y_pred', fontsize=16)   "
   ]
  },
  {
   "cell_type": "markdown",
   "metadata": {},
   "source": [
    "#### Evaluation of the model using Statistics"
   ]
  },
  {
   "cell_type": "code",
   "execution_count": 111,
   "metadata": {},
   "outputs": [
    {
     "name": "stdout",
     "output_type": "stream",
     "text": [
      "                            OLS Regression Results                            \n",
      "==============================================================================\n",
      "Dep. Variable:                  price   R-squared:                       0.899\n",
      "Model:                            OLS   Adj. R-squared:                  0.896\n",
      "Method:                 Least Squares   F-statistic:                     308.0\n",
      "Date:                Sat, 04 Mar 2023   Prob (F-statistic):           1.04e-67\n",
      "Time:                        06:51:10   Log-Likelihood:                 181.06\n",
      "No. Observations:                 143   AIC:                            -352.1\n",
      "Df Residuals:                     138   BIC:                            -337.3\n",
      "Df Model:                           4                                         \n",
      "Covariance Type:            nonrobust                                         \n",
      "==============================================================================\n",
      "                 coef    std err          t      P>|t|      [0.025      0.975]\n",
      "------------------------------------------------------------------------------\n",
      "const         -0.0824      0.018     -4.480      0.000      -0.119      -0.046\n",
      "horsepower     0.4402      0.052      8.390      0.000       0.336       0.544\n",
      "carwidth       0.3957      0.046      8.677      0.000       0.306       0.486\n",
      "hatchback     -0.0414      0.013     -3.219      0.002      -0.067      -0.016\n",
      "Highend        0.2794      0.022     12.591      0.000       0.236       0.323\n",
      "==============================================================================\n",
      "Omnibus:                       29.385   Durbin-Watson:                   1.955\n",
      "Prob(Omnibus):                  0.000   Jarque-Bera (JB):               98.010\n",
      "Skew:                           0.692   Prob(JB):                     5.22e-22\n",
      "Kurtosis:                       6.812   Cond. No.                         12.9\n",
      "==============================================================================\n",
      "\n",
      "Notes:\n",
      "[1] Standard Errors assume that the covariance matrix of the errors is correctly specified.\n"
     ]
    }
   ],
   "source": [
    "print(lm.summary())"
   ]
  },
  {
   "cell_type": "markdown",
   "metadata": {},
   "source": [
    "## Step 10: Based on your understanding of the model and EDA analysis, Explain the business understanding."
   ]
  },
  {
   "cell_type": "markdown",
   "metadata": {},
   "source": [
    "#### Inference :\n",
    "\n",
    "1. *R-sqaured and Adjusted R-squared (extent of fit)* - 0.899 and 0.896 - `90%` variance explained.\n",
    "2. *F-stats and Prob(F-stats) (overall model fit)* - 308.0 and 1.04e-67(approx. 0.0) - Model fir is significant and explained `90%` variance is just not by chance.\n",
    "3. *p-values* - p-values for all the coefficients seem to be less than the significance level of 0.05. - meaning that all the predictors are statistically significant."
   ]
  }
 ],
 "metadata": {
  "kernelspec": {
   "display_name": "Python 3 (ipykernel)",
   "language": "python",
   "name": "python3"
  },
  "language_info": {
   "codemirror_mode": {
    "name": "ipython",
    "version": 3
   },
   "file_extension": ".py",
   "mimetype": "text/x-python",
   "name": "python",
   "nbconvert_exporter": "python",
   "pygments_lexer": "ipython3",
   "version": "3.9.12"
  }
 },
 "nbformat": 4,
 "nbformat_minor": 1
}
